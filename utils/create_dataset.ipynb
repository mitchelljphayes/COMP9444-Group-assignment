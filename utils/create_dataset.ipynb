{
 "cells": [
  {
   "cell_type": "code",
   "execution_count": 7,
   "metadata": {},
   "outputs": [
    {
     "name": "stdout",
     "output_type": "stream",
     "text": [
      "\u001b[31mERROR: Invalid requirement: 'guardrail-ml=0.0.12'\n",
      "Hint: = is not a valid operator. Did you mean == ?\u001b[0m\u001b[31m\n",
      "\u001b[0mRequirement already satisfied: transformers in /usr/local/lib/python3.9/dist-packages (4.35.0)\n",
      "Requirement already satisfied: sentencepiece in /usr/local/lib/python3.9/dist-packages (0.1.97)\n",
      "Requirement already satisfied: accelerate in /usr/local/lib/python3.9/dist-packages (0.24.1)\n",
      "Requirement already satisfied: bitsandbytes in /usr/local/lib/python3.9/dist-packages (0.41.2.post2)\n",
      "Requirement already satisfied: clean-text in /usr/local/lib/python3.9/dist-packages (0.6.0)\n",
      "Requirement already satisfied: unidecode in /usr/lib/python3/dist-packages (1.1.1)\n",
      "Requirement already satisfied: textstat in /usr/local/lib/python3.9/dist-packages (0.7.3)\n",
      "Requirement already satisfied: scipy in /usr/local/lib/python3.9/dist-packages (1.9.2)\n",
      "Requirement already satisfied: PyPDF2 in /usr/local/lib/python3.9/dist-packages (3.0.1)\n",
      "Requirement already satisfied: einops in /usr/local/lib/python3.9/dist-packages (0.7.0)\n",
      "Requirement already satisfied: jsonformer in /usr/local/lib/python3.9/dist-packages (0.12.0)\n",
      "Requirement already satisfied: tokenizers<0.15,>=0.14 in /usr/local/lib/python3.9/dist-packages (from transformers) (0.14.1)\n",
      "Requirement already satisfied: safetensors>=0.3.1 in /usr/local/lib/python3.9/dist-packages (from transformers) (0.4.0)\n",
      "Requirement already satisfied: tqdm>=4.27 in /usr/local/lib/python3.9/dist-packages (from transformers) (4.64.1)\n",
      "Requirement already satisfied: numpy>=1.17 in /usr/local/lib/python3.9/dist-packages (from transformers) (1.23.4)\n",
      "Requirement already satisfied: requests in /usr/local/lib/python3.9/dist-packages (from transformers) (2.28.2)\n",
      "Requirement already satisfied: packaging>=20.0 in /usr/local/lib/python3.9/dist-packages (from transformers) (23.0)\n",
      "Requirement already satisfied: pyyaml>=5.1 in /usr/local/lib/python3.9/dist-packages (from transformers) (5.4.1)\n",
      "Requirement already satisfied: regex!=2019.12.17 in /usr/local/lib/python3.9/dist-packages (from transformers) (2022.10.31)\n",
      "Requirement already satisfied: filelock in /usr/local/lib/python3.9/dist-packages (from transformers) (3.9.0)\n",
      "Requirement already satisfied: huggingface-hub<1.0,>=0.16.4 in /usr/local/lib/python3.9/dist-packages (from transformers) (0.17.3)\n",
      "Requirement already satisfied: psutil in /usr/local/lib/python3.9/dist-packages (from accelerate) (5.9.4)\n",
      "Requirement already satisfied: torch>=1.10.0 in /usr/local/lib/python3.9/dist-packages (from accelerate) (1.12.1+cu116)\n",
      "Requirement already satisfied: ftfy<7.0,>=6.0 in /usr/local/lib/python3.9/dist-packages (from clean-text) (6.1.1)\n",
      "Requirement already satisfied: emoji<2.0.0,>=1.0.0 in /usr/local/lib/python3.9/dist-packages (from clean-text) (1.7.0)\n",
      "Requirement already satisfied: pyphen in /usr/local/lib/python3.9/dist-packages (from textstat) (0.14.0)\n",
      "Requirement already satisfied: typing_extensions>=3.10.0.0 in /usr/local/lib/python3.9/dist-packages (from PyPDF2) (4.4.0)\n",
      "Requirement already satisfied: termcolor<3.0.0,>=2.3.0 in /usr/local/lib/python3.9/dist-packages (from jsonformer) (2.3.0)\n",
      "Requirement already satisfied: wcwidth>=0.2.5 in /usr/local/lib/python3.9/dist-packages (from ftfy<7.0,>=6.0->clean-text) (0.2.6)\n",
      "Requirement already satisfied: fsspec in /usr/local/lib/python3.9/dist-packages (from huggingface-hub<1.0,>=0.16.4->transformers) (2023.10.0)\n",
      "Requirement already satisfied: charset-normalizer<4,>=2 in /usr/local/lib/python3.9/dist-packages (from requests->transformers) (2.1.1)\n",
      "Requirement already satisfied: urllib3<1.27,>=1.21.1 in /usr/local/lib/python3.9/dist-packages (from requests->transformers) (1.26.14)\n",
      "Requirement already satisfied: idna<4,>=2.5 in /usr/lib/python3/dist-packages (from requests->transformers) (2.8)\n",
      "Requirement already satisfied: certifi>=2017.4.17 in /usr/lib/python3/dist-packages (from requests->transformers) (2019.11.28)\n",
      "\u001b[33mWARNING: Running pip as the 'root' user can result in broken permissions and conflicting behaviour with the system package manager. It is recommended to use a virtual environment instead: https://pip.pypa.io/warnings/venv\u001b[0m\u001b[33m\n",
      "\u001b[0mE: Failed to fetch http://security.ubuntu.com/ubuntu/pool/main/p/poppler/libpoppler97_0.86.1-0ubuntu1.1_amd64.deb  404  Not Found [IP: 185.125.190.36 80]\n",
      "E: Failed to fetch http://security.ubuntu.com/ubuntu/pool/main/p/poppler/poppler-utils_0.86.1-0ubuntu1.1_amd64.deb  404  Not Found [IP: 185.125.190.36 80]\n",
      "E: Unable to fetch some archives, maybe run apt-get update or try with --fix-missing?\n",
      "\u001b[33mWARNING: Running pip as the 'root' user can result in broken permissions and conflicting behaviour with the system package manager. It is recommended to use a virtual environment instead: https://pip.pypa.io/warnings/venv\u001b[0m\u001b[33m\n",
      "\u001b[0mNote: you may need to restart the kernel to use updated packages.\n",
      "\u001b[33mWARNING: Running pip as the 'root' user can result in broken permissions and conflicting behaviour with the system package manager. It is recommended to use a virtual environment instead: https://pip.pypa.io/warnings/venv\u001b[0m\u001b[33m\n",
      "\u001b[0m"
     ]
    }
   ],
   "source": [
    "!pip install guardrail-ml=0.0.12\n",
    "!pip install transformers sentencepiece accelerate bitsandbytes clean-text unidecode textstat scipy PyPDF2 einops jsonformer\n",
    "!apt-get -qq install poppler-utils tesseract-ocr\n",
    "%pip install -q --user --upgrade pillow\n",
    "!pip install -q unstructured[\"local-inference\"]==0.7.4"
   ]
  },
  {
   "cell_type": "code",
   "execution_count": 8,
   "metadata": {},
   "outputs": [
    {
     "ename": "ImportError",
     "evalue": "cannot import name 'etree' from 'lxml' (/usr/lib/python3/dist-packages/lxml/__init__.py)",
     "output_type": "error",
     "traceback": [
      "\u001b[0;31m---------------------------------------------------------------------------\u001b[0m",
      "\u001b[0;31mImportError\u001b[0m                               Traceback (most recent call last)",
      "\u001b[1;32m/Users/mjp/Documents/Study/UNSW/23T3-9444/group-assignment/utils/create_dataset.ipynb Cell 2\u001b[0m line \u001b[0;36m1\n\u001b[0;32m----> <a href='vscode-notebook-cell:/Users/mjp/Documents/Study/UNSW/23T3-9444/group-assignment/utils/create_dataset.ipynb#W1sZmlsZQ%3D%3D?line=0'>1</a>\u001b[0m \u001b[39mfrom\u001b[39;00m \u001b[39mguardrail\u001b[39;00m\u001b[39m.\u001b[39;00m\u001b[39mclient\u001b[39;00m \u001b[39mimport\u001b[39;00m run_metrics\n\u001b[1;32m      <a href='vscode-notebook-cell:/Users/mjp/Documents/Study/UNSW/23T3-9444/group-assignment/utils/create_dataset.ipynb#W1sZmlsZQ%3D%3D?line=1'>2</a>\u001b[0m \u001b[39mfrom\u001b[39;00m \u001b[39mguardrail\u001b[39;00m\u001b[39m.\u001b[39;00m\u001b[39mclient\u001b[39;00m \u001b[39mimport\u001b[39;00m run_simple_metrics\n\u001b[1;32m      <a href='vscode-notebook-cell:/Users/mjp/Documents/Study/UNSW/23T3-9444/group-assignment/utils/create_dataset.ipynb#W1sZmlsZQ%3D%3D?line=2'>3</a>\u001b[0m \u001b[39mfrom\u001b[39;00m \u001b[39mguardrail\u001b[39;00m\u001b[39m.\u001b[39;00m\u001b[39mclient\u001b[39;00m \u001b[39mimport\u001b[39;00m create_dataset\n",
      "File \u001b[0;32m/usr/local/lib/python3.9/dist-packages/guardrail/client.py:17\u001b[0m\n\u001b[1;32m     14\u001b[0m \u001b[39mfrom\u001b[39;00m \u001b[39m.\u001b[39;00m\u001b[39mmetrics\u001b[39;00m\u001b[39m.\u001b[39;00m\u001b[39msentiment\u001b[39;00m \u001b[39mimport\u001b[39;00m Sentiment\n\u001b[1;32m     15\u001b[0m \u001b[39mfrom\u001b[39;00m \u001b[39m.\u001b[39;00m\u001b[39mmetrics\u001b[39;00m\u001b[39m.\u001b[39;00m\u001b[39mbias\u001b[39;00m \u001b[39mimport\u001b[39;00m Bias\n\u001b[0;32m---> 17\u001b[0m \u001b[39mfrom\u001b[39;00m \u001b[39m.\u001b[39;00m\u001b[39mdataset\u001b[39;00m\u001b[39m.\u001b[39;00m\u001b[39mdataset_generator\u001b[39;00m \u001b[39mimport\u001b[39;00m DatasetGenerator\n\u001b[1;32m     18\u001b[0m \u001b[39mfrom\u001b[39;00m \u001b[39m.\u001b[39;00m\u001b[39mdb\u001b[39;00m \u001b[39mimport\u001b[39;00m insert_log\n\u001b[1;32m     21\u001b[0m \u001b[39mdef\u001b[39;00m \u001b[39mrun_simple_metrics\u001b[39m(output, prompt, model_uri):\n\u001b[1;32m     22\u001b[0m     \u001b[39m# Initialize the Textstat class\u001b[39;00m\n",
      "File \u001b[0;32m/usr/local/lib/python3.9/dist-packages/guardrail/dataset/dataset_generator.py:14\u001b[0m\n\u001b[1;32m     11\u001b[0m \u001b[39mfrom\u001b[39;00m \u001b[39mjsonformer\u001b[39;00m\u001b[39m.\u001b[39;00m\u001b[39mformat\u001b[39;00m \u001b[39mimport\u001b[39;00m highlight_values\n\u001b[1;32m     12\u001b[0m \u001b[39mfrom\u001b[39;00m \u001b[39mjsonformer\u001b[39;00m\u001b[39m.\u001b[39;00m\u001b[39mmain\u001b[39;00m \u001b[39mimport\u001b[39;00m Jsonformer\n\u001b[0;32m---> 14\u001b[0m \u001b[39mfrom\u001b[39;00m \u001b[39munstructured\u001b[39;00m\u001b[39m.\u001b[39;00m\u001b[39mpartition\u001b[39;00m\u001b[39m.\u001b[39;00m\u001b[39mauto\u001b[39;00m \u001b[39mimport\u001b[39;00m partition\n\u001b[1;32m     15\u001b[0m \u001b[39mfrom\u001b[39;00m \u001b[39munstructured\u001b[39;00m\u001b[39m.\u001b[39;00m\u001b[39mdocuments\u001b[39;00m\u001b[39m.\u001b[39;00m\u001b[39melements\u001b[39;00m \u001b[39mimport\u001b[39;00m NarrativeText\n\u001b[1;32m     16\u001b[0m \u001b[39mfrom\u001b[39;00m \u001b[39munstructured\u001b[39;00m\u001b[39m.\u001b[39;00m\u001b[39mpartition\u001b[39;00m\u001b[39m.\u001b[39;00m\u001b[39mtext_type\u001b[39;00m \u001b[39mimport\u001b[39;00m sentence_count\n",
      "File \u001b[0;32m/usr/local/lib/python3.9/dist-packages/unstructured/partition/auto.py:7\u001b[0m\n\u001b[1;32m      4\u001b[0m \u001b[39mimport\u001b[39;00m \u001b[39mrequests\u001b[39;00m\n\u001b[1;32m      6\u001b[0m \u001b[39mfrom\u001b[39;00m \u001b[39munstructured\u001b[39;00m\u001b[39m.\u001b[39;00m\u001b[39mdocuments\u001b[39;00m\u001b[39m.\u001b[39;00m\u001b[39melements\u001b[39;00m \u001b[39mimport\u001b[39;00m DataSourceMetadata\n\u001b[0;32m----> 7\u001b[0m \u001b[39mfrom\u001b[39;00m \u001b[39munstructured\u001b[39;00m\u001b[39m.\u001b[39;00m\u001b[39mfile_utils\u001b[39;00m\u001b[39m.\u001b[39;00m\u001b[39mfiletype\u001b[39;00m \u001b[39mimport\u001b[39;00m (\n\u001b[1;32m      8\u001b[0m     FILETYPE_TO_MIMETYPE,\n\u001b[1;32m      9\u001b[0m     STR_TO_FILETYPE,\n\u001b[1;32m     10\u001b[0m     FileType,\n\u001b[1;32m     11\u001b[0m     detect_filetype,\n\u001b[1;32m     12\u001b[0m )\n\u001b[1;32m     13\u001b[0m \u001b[39mfrom\u001b[39;00m \u001b[39munstructured\u001b[39;00m\u001b[39m.\u001b[39;00m\u001b[39mlogger\u001b[39;00m \u001b[39mimport\u001b[39;00m logger\n\u001b[1;32m     14\u001b[0m \u001b[39mfrom\u001b[39;00m \u001b[39munstructured\u001b[39;00m\u001b[39m.\u001b[39;00m\u001b[39mpartition\u001b[39;00m\u001b[39m.\u001b[39;00m\u001b[39mcommon\u001b[39;00m \u001b[39mimport\u001b[39;00m exactly_one\n",
      "File \u001b[0;32m/usr/local/lib/python3.9/dist-packages/unstructured/file_utils/filetype.py:14\u001b[0m\n\u001b[1;32m     12\u001b[0m \u001b[39mfrom\u001b[39;00m \u001b[39munstructured\u001b[39;00m\u001b[39m.\u001b[39;00m\u001b[39mfile_utils\u001b[39;00m\u001b[39m.\u001b[39;00m\u001b[39mencoding\u001b[39;00m \u001b[39mimport\u001b[39;00m detect_file_encoding\n\u001b[1;32m     13\u001b[0m \u001b[39mfrom\u001b[39;00m \u001b[39munstructured\u001b[39;00m\u001b[39m.\u001b[39;00m\u001b[39mnlp\u001b[39;00m\u001b[39m.\u001b[39;00m\u001b[39mpatterns\u001b[39;00m \u001b[39mimport\u001b[39;00m LIST_OF_DICTS_PATTERN\n\u001b[0;32m---> 14\u001b[0m \u001b[39mfrom\u001b[39;00m \u001b[39munstructured\u001b[39;00m\u001b[39m.\u001b[39;00m\u001b[39mpartition\u001b[39;00m\u001b[39m.\u001b[39;00m\u001b[39mcommon\u001b[39;00m \u001b[39mimport\u001b[39;00m (\n\u001b[1;32m     15\u001b[0m     _add_element_metadata,\n\u001b[1;32m     16\u001b[0m     _remove_element_metadata,\n\u001b[1;32m     17\u001b[0m     exactly_one,\n\u001b[1;32m     18\u001b[0m )\n\u001b[1;32m     20\u001b[0m \u001b[39mtry\u001b[39;00m:\n\u001b[1;32m     21\u001b[0m     \u001b[39mimport\u001b[39;00m \u001b[39mmagic\u001b[39;00m\n",
      "File \u001b[0;32m/usr/local/lib/python3.9/dist-packages/unstructured/partition/common.py:6\u001b[0m\n\u001b[1;32m      3\u001b[0m \u001b[39mfrom\u001b[39;00m \u001b[39mtempfile\u001b[39;00m \u001b[39mimport\u001b[39;00m SpooledTemporaryFile\n\u001b[1;32m      4\u001b[0m \u001b[39mfrom\u001b[39;00m \u001b[39mtyping\u001b[39;00m \u001b[39mimport\u001b[39;00m BinaryIO, List, Optional, Tuple, Union\n\u001b[0;32m----> 6\u001b[0m \u001b[39mfrom\u001b[39;00m \u001b[39mdocx\u001b[39;00m \u001b[39mimport\u001b[39;00m table \u001b[39mas\u001b[39;00m docxtable\n\u001b[1;32m      7\u001b[0m \u001b[39mfrom\u001b[39;00m \u001b[39mtabulate\u001b[39;00m \u001b[39mimport\u001b[39;00m tabulate\n\u001b[1;32m      9\u001b[0m \u001b[39mfrom\u001b[39;00m \u001b[39munstructured\u001b[39;00m\u001b[39m.\u001b[39;00m\u001b[39mdocuments\u001b[39;00m\u001b[39m.\u001b[39;00m\u001b[39melements\u001b[39;00m \u001b[39mimport\u001b[39;00m (\n\u001b[1;32m     10\u001b[0m     TYPE_TO_TEXT_ELEMENT_MAP,\n\u001b[1;32m     11\u001b[0m     CheckBox,\n\u001b[0;32m   (...)\u001b[0m\n\u001b[1;32m     16\u001b[0m     Text,\n\u001b[1;32m     17\u001b[0m )\n",
      "File \u001b[0;32m/usr/local/lib/python3.9/dist-packages/docx/__init__.py:11\u001b[0m\n\u001b[1;32m      7\u001b[0m \u001b[39mfrom\u001b[39;00m \u001b[39m__future__\u001b[39;00m \u001b[39mimport\u001b[39;00m annotations\n\u001b[1;32m      9\u001b[0m \u001b[39mfrom\u001b[39;00m \u001b[39mtyping\u001b[39;00m \u001b[39mimport\u001b[39;00m TYPE_CHECKING, Type\n\u001b[0;32m---> 11\u001b[0m \u001b[39mfrom\u001b[39;00m \u001b[39mdocx\u001b[39;00m\u001b[39m.\u001b[39;00m\u001b[39mapi\u001b[39;00m \u001b[39mimport\u001b[39;00m Document\n\u001b[1;32m     13\u001b[0m \u001b[39mif\u001b[39;00m TYPE_CHECKING:\n\u001b[1;32m     14\u001b[0m     \u001b[39mfrom\u001b[39;00m \u001b[39mdocx\u001b[39;00m\u001b[39m.\u001b[39;00m\u001b[39mopc\u001b[39;00m\u001b[39m.\u001b[39;00m\u001b[39mpart\u001b[39;00m \u001b[39mimport\u001b[39;00m Part\n",
      "File \u001b[0;32m/usr/local/lib/python3.9/dist-packages/docx/api.py:12\u001b[0m\n\u001b[1;32m      9\u001b[0m \u001b[39mfrom\u001b[39;00m \u001b[39mtyping\u001b[39;00m \u001b[39mimport\u001b[39;00m IO\n\u001b[1;32m     11\u001b[0m \u001b[39mfrom\u001b[39;00m \u001b[39mdocx\u001b[39;00m\u001b[39m.\u001b[39;00m\u001b[39mopc\u001b[39;00m\u001b[39m.\u001b[39;00m\u001b[39mconstants\u001b[39;00m \u001b[39mimport\u001b[39;00m CONTENT_TYPE \u001b[39mas\u001b[39;00m CT\n\u001b[0;32m---> 12\u001b[0m \u001b[39mfrom\u001b[39;00m \u001b[39mdocx\u001b[39;00m\u001b[39m.\u001b[39;00m\u001b[39mpackage\u001b[39;00m \u001b[39mimport\u001b[39;00m Package\n\u001b[1;32m     15\u001b[0m \u001b[39mdef\u001b[39;00m \u001b[39mDocument\u001b[39m(docx: \u001b[39mstr\u001b[39m \u001b[39m|\u001b[39m IO[\u001b[39mbytes\u001b[39m] \u001b[39m|\u001b[39m \u001b[39mNone\u001b[39;00m \u001b[39m=\u001b[39m \u001b[39mNone\u001b[39;00m):\n\u001b[1;32m     16\u001b[0m \u001b[39m    \u001b[39m\u001b[39m\"\"\"Return a |Document| object loaded from `docx`, where `docx` can be either a path\u001b[39;00m\n\u001b[1;32m     17\u001b[0m \u001b[39m    to a ``.docx`` file (a string) or a file-like object.\u001b[39;00m\n\u001b[1;32m     18\u001b[0m \n\u001b[1;32m     19\u001b[0m \u001b[39m    If `docx` is missing or ``None``, the built-in default document \"template\" is\u001b[39;00m\n\u001b[1;32m     20\u001b[0m \u001b[39m    loaded.\u001b[39;00m\n\u001b[1;32m     21\u001b[0m \u001b[39m    \"\"\"\u001b[39;00m\n",
      "File \u001b[0;32m/usr/local/lib/python3.9/dist-packages/docx/package.py:9\u001b[0m\n\u001b[1;32m      7\u001b[0m \u001b[39mfrom\u001b[39;00m \u001b[39mdocx\u001b[39;00m\u001b[39m.\u001b[39;00m\u001b[39mimage\u001b[39;00m\u001b[39m.\u001b[39;00m\u001b[39mimage\u001b[39;00m \u001b[39mimport\u001b[39;00m Image\n\u001b[1;32m      8\u001b[0m \u001b[39mfrom\u001b[39;00m \u001b[39mdocx\u001b[39;00m\u001b[39m.\u001b[39;00m\u001b[39mopc\u001b[39;00m\u001b[39m.\u001b[39;00m\u001b[39mconstants\u001b[39;00m \u001b[39mimport\u001b[39;00m RELATIONSHIP_TYPE \u001b[39mas\u001b[39;00m RT\n\u001b[0;32m----> 9\u001b[0m \u001b[39mfrom\u001b[39;00m \u001b[39mdocx\u001b[39;00m\u001b[39m.\u001b[39;00m\u001b[39mopc\u001b[39;00m\u001b[39m.\u001b[39;00m\u001b[39mpackage\u001b[39;00m \u001b[39mimport\u001b[39;00m OpcPackage\n\u001b[1;32m     10\u001b[0m \u001b[39mfrom\u001b[39;00m \u001b[39mdocx\u001b[39;00m\u001b[39m.\u001b[39;00m\u001b[39mopc\u001b[39;00m\u001b[39m.\u001b[39;00m\u001b[39mpackuri\u001b[39;00m \u001b[39mimport\u001b[39;00m PackURI\n\u001b[1;32m     11\u001b[0m \u001b[39mfrom\u001b[39;00m \u001b[39mdocx\u001b[39;00m\u001b[39m.\u001b[39;00m\u001b[39mparts\u001b[39;00m\u001b[39m.\u001b[39;00m\u001b[39mimage\u001b[39;00m \u001b[39mimport\u001b[39;00m ImagePart\n",
      "File \u001b[0;32m/usr/local/lib/python3.9/dist-packages/docx/opc/package.py:5\u001b[0m\n\u001b[1;32m      3\u001b[0m \u001b[39mfrom\u001b[39;00m \u001b[39mdocx\u001b[39;00m\u001b[39m.\u001b[39;00m\u001b[39mopc\u001b[39;00m\u001b[39m.\u001b[39;00m\u001b[39mconstants\u001b[39;00m \u001b[39mimport\u001b[39;00m RELATIONSHIP_TYPE \u001b[39mas\u001b[39;00m RT\n\u001b[1;32m      4\u001b[0m \u001b[39mfrom\u001b[39;00m \u001b[39mdocx\u001b[39;00m\u001b[39m.\u001b[39;00m\u001b[39mopc\u001b[39;00m\u001b[39m.\u001b[39;00m\u001b[39mpackuri\u001b[39;00m \u001b[39mimport\u001b[39;00m PACKAGE_URI, PackURI\n\u001b[0;32m----> 5\u001b[0m \u001b[39mfrom\u001b[39;00m \u001b[39mdocx\u001b[39;00m\u001b[39m.\u001b[39;00m\u001b[39mopc\u001b[39;00m\u001b[39m.\u001b[39;00m\u001b[39mpart\u001b[39;00m \u001b[39mimport\u001b[39;00m PartFactory\n\u001b[1;32m      6\u001b[0m \u001b[39mfrom\u001b[39;00m \u001b[39mdocx\u001b[39;00m\u001b[39m.\u001b[39;00m\u001b[39mopc\u001b[39;00m\u001b[39m.\u001b[39;00m\u001b[39mparts\u001b[39;00m\u001b[39m.\u001b[39;00m\u001b[39mcoreprops\u001b[39;00m \u001b[39mimport\u001b[39;00m CorePropertiesPart\n\u001b[1;32m      7\u001b[0m \u001b[39mfrom\u001b[39;00m \u001b[39mdocx\u001b[39;00m\u001b[39m.\u001b[39;00m\u001b[39mopc\u001b[39;00m\u001b[39m.\u001b[39;00m\u001b[39mpkgreader\u001b[39;00m \u001b[39mimport\u001b[39;00m PackageReader\n",
      "File \u001b[0;32m/usr/local/lib/python3.9/dist-packages/docx/opc/part.py:7\u001b[0m\n\u001b[1;32m      3\u001b[0m \u001b[39mfrom\u001b[39;00m \u001b[39m__future__\u001b[39;00m \u001b[39mimport\u001b[39;00m annotations\n\u001b[1;32m      5\u001b[0m \u001b[39mfrom\u001b[39;00m \u001b[39mtyping\u001b[39;00m \u001b[39mimport\u001b[39;00m TYPE_CHECKING, Callable, Dict, Type\n\u001b[0;32m----> 7\u001b[0m \u001b[39mfrom\u001b[39;00m \u001b[39mdocx\u001b[39;00m\u001b[39m.\u001b[39;00m\u001b[39mopc\u001b[39;00m\u001b[39m.\u001b[39;00m\u001b[39moxml\u001b[39;00m \u001b[39mimport\u001b[39;00m serialize_part_xml\n\u001b[1;32m      8\u001b[0m \u001b[39mfrom\u001b[39;00m \u001b[39mdocx\u001b[39;00m\u001b[39m.\u001b[39;00m\u001b[39mopc\u001b[39;00m\u001b[39m.\u001b[39;00m\u001b[39mpackuri\u001b[39;00m \u001b[39mimport\u001b[39;00m PackURI\n\u001b[1;32m      9\u001b[0m \u001b[39mfrom\u001b[39;00m \u001b[39mdocx\u001b[39;00m\u001b[39m.\u001b[39;00m\u001b[39mopc\u001b[39;00m\u001b[39m.\u001b[39;00m\u001b[39mrel\u001b[39;00m \u001b[39mimport\u001b[39;00m Relationships\n",
      "File \u001b[0;32m/usr/local/lib/python3.9/dist-packages/docx/opc/oxml.py:8\u001b[0m\n\u001b[1;32m      1\u001b[0m \u001b[39m\"\"\"Temporary stand-in for main oxml module.\u001b[39;00m\n\u001b[1;32m      2\u001b[0m \n\u001b[1;32m      3\u001b[0m \u001b[39mThis module came across with the PackageReader transplant. Probably much will get\u001b[39;00m\n\u001b[1;32m      4\u001b[0m \u001b[39mreplaced with objects from the pptx.oxml.core and then this module will either get\u001b[39;00m\n\u001b[1;32m      5\u001b[0m \u001b[39mdeleted or only hold the package related custom element classes.\u001b[39;00m\n\u001b[1;32m      6\u001b[0m \u001b[39m\"\"\"\u001b[39;00m\n\u001b[0;32m----> 8\u001b[0m \u001b[39mfrom\u001b[39;00m \u001b[39mlxml\u001b[39;00m \u001b[39mimport\u001b[39;00m etree\n\u001b[1;32m     10\u001b[0m \u001b[39mfrom\u001b[39;00m \u001b[39mdocx\u001b[39;00m\u001b[39m.\u001b[39;00m\u001b[39mopc\u001b[39;00m\u001b[39m.\u001b[39;00m\u001b[39mconstants\u001b[39;00m \u001b[39mimport\u001b[39;00m NAMESPACE \u001b[39mas\u001b[39;00m NS\n\u001b[1;32m     11\u001b[0m \u001b[39mfrom\u001b[39;00m \u001b[39mdocx\u001b[39;00m\u001b[39m.\u001b[39;00m\u001b[39mopc\u001b[39;00m\u001b[39m.\u001b[39;00m\u001b[39mconstants\u001b[39;00m \u001b[39mimport\u001b[39;00m RELATIONSHIP_TARGET_MODE \u001b[39mas\u001b[39;00m RTM\n",
      "\u001b[0;31mImportError\u001b[0m: cannot import name 'etree' from 'lxml' (/usr/lib/python3/dist-packages/lxml/__init__.py)"
     ]
    }
   ],
   "source": [
    "from guardrail.client import run_metrics\n",
    "from guardrail.client import run_simple_metrics\n",
    "from guardrail.client import create_dataset\n",
    "from guardrail.client import init_log\n",
    "import torch\n",
    "from transformers import AutoModelForCausalLM, AutoTokenizer, pipeline"
   ]
  },
  {
   "cell_type": "code",
   "execution_count": null,
   "metadata": {},
   "outputs": [],
   "source": [
    "!mkdir -p input_files\n",
    "!mkdir -p output\n",
    "\n",
    "!wget https://everythingcomputerscience.com/books/Machine%20Learning%20for%20Humans.pdf -P input_files\n",
    "!wget https://mml-book.github.io/book/mml-book.pdf -P input_files\n",
    "!wget https://github.com/abhishekkrthakur/approachingalmost/raw/master/AAAMLP.pdf -P input_files\n",
    "!wget https://people.smp.uq.edu.au/DirkKroese/DSML/DSML.pdf -P input_files\n",
    "!wget https://raw.githubusercontent.com/janishar/mit-deep-learning-book-pdf/master/complete-book-pdf/deeplearningbook.pdf -P input_files"
   ]
  },
  {
   "cell_type": "code",
   "execution_count": null,
   "metadata": {},
   "outputs": [],
   "source": [
    "model_name = \"OpenAssistant/falcon-7b-sft-mix-2000\"\n",
    "dir = 'input_files'\n",
    "for filename in glob.glob(os.path.join(dir, '*.pdf')):\n",
    "    # dataset = create_dataset(\n",
    "    #     model=model_name,\n",
    "    #     tokenizer=model_name,\n",
    "    #     file_path=input_pdf_path,\n",
    "    #     output_path=outout_file_path,\n",
    "    #     load_in_4bit=True\n",
    "    # )\n",
    "    print(filename)\n",
    "\n",
    "\n"
   ]
  }
 ],
 "metadata": {
  "kernelspec": {
   "display_name": "Python 3 (ipykernel)",
   "language": "python",
   "name": "python3"
  },
  "language_info": {
   "codemirror_mode": {
    "name": "ipython",
    "version": 3
   },
   "file_extension": ".py",
   "mimetype": "text/x-python",
   "name": "python",
   "nbconvert_exporter": "python",
   "pygments_lexer": "ipython3",
   "version": "3.9.16"
  }
 },
 "nbformat": 4,
 "nbformat_minor": 2
}
