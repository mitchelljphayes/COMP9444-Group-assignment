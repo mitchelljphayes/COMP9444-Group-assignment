{
 "cells": [
  {
   "cell_type": "code",
   "execution_count": null,
   "metadata": {},
   "outputs": [],
   "source": [
    "!pip install guardrail-ml=0.0.12\n",
    "!pip install transformers sentencepiece accelerate bitsandbytes clean-text unidecode textstat scipy PyPDF2 einops jsonformer\n",
    "!apt-get -qq install poppler-utils tesseract-ocr\n",
    "%pip install -q --user --upgrade pillow\n",
    "!pip install -q unstructured[\"local-inference\"]==0.7.4"
   ]
  },
  {
   "cell_type": "code",
   "execution_count": null,
   "metadata": {},
   "outputs": [],
   "source": [
    "from guardrail.client import run_metrics\n",
    "from guardrail.client import run_simple_metrics\n",
    "from guardrail.client import create_dataset\n",
    "from guardrail.client import init_log\n",
    "import torch\n",
    "from transformers import AutoModelForCausalLM, AutoTokenizer, pipeline"
   ]
  },
  {
   "cell_type": "code",
   "execution_count": null,
   "metadata": {},
   "outputs": [],
   "source": [
    "!mkdir -p input_files\n",
    "!mkdir -p output\n",
    "\n",
    "!wget https://everythingcomputerscience.com/books/Machine%20Learning%20for%20Humans.pdf -P input_files\n",
    "!wget https://mml-book.github.io/book/mml-book.pdf -P input_files\n",
    "!wget https://github.com/abhishekkrthakur/approachingalmost/raw/master/AAAMLP.pdf -P input_files\n",
    "!wget https://people.smp.uq.edu.au/DirkKroese/DSML/DSML.pdf -P input_files\n",
    "!wget https://raw.githubusercontent.com/janishar/mit-deep-learning-book-pdf/master/complete-book-pdf/deeplearningbook.pdf -P input_files"
   ]
  },
  {
   "cell_type": "code",
   "execution_count": null,
   "metadata": {},
   "outputs": [],
   "source": [
    "model_name = \"OpenAssistant/falcon-7b-sft-mix-2000\"\n",
    "dir = 'input_files'\n",
    "for filename in glob.glob(os.path.join(dir, '*.pdf')):\n",
    "    # dataset = create_dataset(\n",
    "    #     model=model_name,\n",
    "    #     tokenizer=model_name,\n",
    "    #     file_path=input_pdf_path,\n",
    "    #     output_path=outout_file_path,\n",
    "    #     load_in_4bit=True\n",
    "    # )\n",
    "    print(filename)\n",
    "\n",
    "\n"
   ]
  }
 ],
 "metadata": {
  "language_info": {
   "name": "python"
  }
 },
 "nbformat": 4,
 "nbformat_minor": 2
}
