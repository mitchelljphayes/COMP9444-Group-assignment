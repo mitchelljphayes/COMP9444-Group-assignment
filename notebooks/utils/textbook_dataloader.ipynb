{
 "cells": [
  {
   "cell_type": "code",
   "execution_count": null,
   "metadata": {},
   "outputs": [],
   "source": [
    "import os\n",
    "import glob\n",
    "from datasets import load_dataset\n",
    "from huggingface_hub import notebook_login\n",
    "from dotenv import load_dotenv\n",
    "\n",
    "# %load_ext dotenv\n",
    "# %dotenv ./.env\n",
    "config = load_dotenv('../.env')\n",
    "HUGGINGFACE_TOKEN = os.getenv('HUGGINGFACE_TOKEN')"
   ]
  },
  {
   "cell_type": "code",
   "execution_count": null,
   "metadata": {},
   "outputs": [],
   "source": [
    "def concatenate_texts_from_dir(dir):\n",
    "    text = ''\n",
    "    for filename in glob.glob(os.path.join(dir, '*.txt')):\n",
    "        with open(filename, 'r') as file:\n",
    "            text += file.read() + '\\n\\n\\n\\n\\n'\n",
    "    return text"
   ]
  },
  {
   "cell_type": "code",
   "execution_count": null,
   "metadata": {},
   "outputs": [],
   "source": [
    "pdf_dir = '../texts/textbooks'\n",
    "text = concatenate_texts_from_dir(pdf_dir)\n",
    "with open('../texts/combined_texts.txt', 'w') as f:\n",
    "    f.write(text)"
   ]
  },
  {
   "cell_type": "code",
   "execution_count": null,
   "metadata": {},
   "outputs": [],
   "source": [
    "dataset = load_dataset('text', data_files='../texts/combined_texts.txt')"
   ]
  },
  {
   "cell_type": "code",
   "execution_count": null,
   "metadata": {},
   "outputs": [],
   "source": [
    "dataset"
   ]
  },
  {
   "cell_type": "code",
   "execution_count": null,
   "metadata": {},
   "outputs": [],
   "source": [
    "dataset.push_to_hub('textbook_dataset', token=HUGGINGFACE_TOKEN)"
   ]
  }
 ],
 "metadata": {
  "language_info": {
   "name": "python"
  }
 },
 "nbformat": 4,
 "nbformat_minor": 2
}
