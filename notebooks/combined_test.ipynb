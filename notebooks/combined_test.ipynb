{
  "cells": [
    {
      "cell_type": "markdown",
      "metadata": {
        "id": "VoPaVhL1xOZD"
      },
      "source": [
        "# Evaluating LLM Variants on the Deep Learning Domain"
      ]
    },
    {
      "cell_type": "markdown",
      "metadata": {
        "id": "3IQmcYdCxOZF"
      },
      "source": [
        "### Set up the notebook environment"
      ]
    },
    {
      "cell_type": "code",
      "execution_count": null,
      "metadata": {
        "id": "15Te6ByBxOZG"
      },
      "outputs": [],
      "source": [
        "# !pip install -q -U bitsandbytes\n",
        "# !pip install -q -U pip\n",
        "# !pip install -q -U datasets\n",
        "# !pip install -q -U accelerate\n",
        "# !pip install -q -U git+https://github.com/huggingface/transformers.git\n",
        "# !pip install -q -U git+https://github.com/huggingface/peft.git\n",
        "# !pip install -q -U git+https://github.com/huggingface/accelerate.git\n",
        "# !pip install -q -U einops\n",
        "# !pip install -q -U safetensors\n",
        "# !pip install -q -U torch\n",
        "# !pip install -q -U xformers\n",
        "# !pip install -q -U langchain\n",
        "# !pip install -q -U pypdf\n",
        "# !pip install -q -U pymupdf\n",
        "# !pip install -q -U faiss-gpu\n",
        "# !pip install -q -U bert_score\n",
        "# !pip install -q -U spacy\n",
        "# !pip install -q typing-inspect==0.8.0\n",
        "# !pip install -q typing_extensions==4.5.0\n",
        "# !pip install -q pydantic==1.10.11"
      ]
    },
    {
      "cell_type": "code",
      "execution_count": 1,
      "metadata": {
        "colab": {
          "base_uri": "https://localhost:8080/",
          "height": 383
        },
        "id": "Vz5uvP9qxOZH",
        "outputId": "e31401f4-9867-45e6-dd73-370967e69fad"
      },
      "outputs": [
        {
          "ename": "ModuleNotFoundError",
          "evalue": "ignored",
          "output_type": "error",
          "traceback": [
            "\u001b[0;31m---------------------------------------------------------------------------\u001b[0m",
            "\u001b[0;31mModuleNotFoundError\u001b[0m                       Traceback (most recent call last)",
            "\u001b[0;32m<ipython-input-1-0d50e7d8f903>\u001b[0m in \u001b[0;36m<cell line: 4>\u001b[0;34m()\u001b[0m\n\u001b[1;32m      2\u001b[0m \u001b[0;32mimport\u001b[0m \u001b[0mlogging\u001b[0m\u001b[0;34m\u001b[0m\u001b[0;34m\u001b[0m\u001b[0m\n\u001b[1;32m      3\u001b[0m \u001b[0;32mimport\u001b[0m \u001b[0mtransformers\u001b[0m\u001b[0;34m\u001b[0m\u001b[0;34m\u001b[0m\u001b[0m\n\u001b[0;32m----> 4\u001b[0;31m \u001b[0;32mimport\u001b[0m \u001b[0mbert_score\u001b[0m\u001b[0;34m\u001b[0m\u001b[0;34m\u001b[0m\u001b[0m\n\u001b[0m\u001b[1;32m      5\u001b[0m \u001b[0;32mimport\u001b[0m \u001b[0mtorch\u001b[0m\u001b[0;34m\u001b[0m\u001b[0;34m\u001b[0m\u001b[0m\n\u001b[1;32m      6\u001b[0m \u001b[0;32mimport\u001b[0m \u001b[0mpandas\u001b[0m \u001b[0;32mas\u001b[0m \u001b[0mpd\u001b[0m\u001b[0;34m\u001b[0m\u001b[0;34m\u001b[0m\u001b[0m\n",
            "\u001b[0;31mModuleNotFoundError\u001b[0m: No module named 'bert_score'",
            "",
            "\u001b[0;31m---------------------------------------------------------------------------\u001b[0;32m\nNOTE: If your import is failing due to a missing package, you can\nmanually install dependencies using either !pip or !apt.\n\nTo view examples of installing some common dependencies, click the\n\"Open Examples\" button below.\n\u001b[0;31m---------------------------------------------------------------------------\u001b[0m\n"
          ]
        }
      ],
      "source": [
        "import os\n",
        "import logging\n",
        "import transformers\n",
        "import bert_score\n",
        "import torch\n",
        "import pandas as pd\n",
        "import bitsandbytes as bnb\n",
        "import torch.nn as nn\n",
        "import matplotlib.pyplot as plt\n",
        "from tqdm import tqdm\n",
        "from matplotlib import rcParams\n",
        "from bert_score import score, BERTScorer\n",
        "from datasets import load_dataset\n",
        "from operator import itemgetter\n",
        "from langchain import HuggingFacePipeline\n",
        "from langchain import PromptTemplate\n",
        "from langchain.prompts import ChatPromptTemplate\n",
        "from langchain.schema.output_parser import StrOutputParser\n",
        "from langchain.schema.runnable import RunnableLambda, RunnablePassthrough\n",
        "from langchain.vectorstores import FAISS\n",
        "from langchain.embeddings import HuggingFaceEmbeddings\n",
        "from langchain.text_splitter import RecursiveCharacterTextSplitter\n",
        "from langchain.document_loaders import TextLoader, DirectoryLoader\n",
        "from huggingface_hub import notebook_login\n",
        "from peft import (\n",
        "    LoraConfig,\n",
        "    PeftConfig,\n",
        "    PeftModel,\n",
        "    get_peft_model,\n",
        "    prepare_model_for_kbit_training\n",
        ")\n",
        "from transformers import (\n",
        "    AutoConfig,\n",
        "    AutoModelForCausalLM,\n",
        "    AutoTokenizer,\n",
        "    Trainer,\n",
        "    TrainingArguments,\n",
        "    DataCollatorForLanguageModeling,\n",
        "    BitsAndBytesConfig,\n",
        "    pipeline,\n",
        ")\n",
        "\n",
        "## just to suppress warnings for things like not running on GPU when using langchain\n",
        "import warnings\n",
        "warnings.simplefilter(action='ignore', category=UserWarning)\n",
        "\n",
        "\n",
        "if torch.cuda.is_available():\n",
        "    device = torch.device('cuda')\n",
        "elif torch.backends.mps.is_available():\n",
        "    device = torch.device('mps')\n",
        "else :\n",
        "    device = torch.device('cpu')\n",
        "\n",
        "device"
      ]
    },
    {
      "cell_type": "code",
      "execution_count": 1,
      "metadata": {
        "id": "e87pkMWlxOZH"
      },
      "outputs": [],
      "source": [
        "import os"
      ]
    },
    {
      "cell_type": "markdown",
      "metadata": {
        "id": "O4v6FJG8xOZH"
      },
      "source": [
        "### Set up constants to manage local storage and retrieve models and data"
      ]
    },
    {
      "cell_type": "code",
      "execution_count": 2,
      "metadata": {
        "id": "QMOCUe3wxOZH"
      },
      "outputs": [],
      "source": [
        "PROJECT_ROOT = '.'\n",
        "DATA_DIR = os.path.join(PROJECT_ROOT, 'data')\n",
        "\n",
        "PDF_DIR = os.path.join(PROJECT_ROOT, DATA_DIR, 'pdfs')\n",
        "TEXT_DIR = os.path.join(PROJECT_ROOT, DATA_DIR, 'texts')\n",
        "\n",
        "MODELS_DIR = os.path.join(PROJECT_ROOT, 'models')\n",
        "RESULTS_DIR = os.path.join(PROJECT_ROOT, 'results')\n",
        "\n",
        "TRAIN_DATA_SOURCE = 'mjphayes/textbook_dataset'\n",
        "TRAIN_DATA_CACHE = os.path.join(PROJECT_ROOT, DATA_DIR, 'textbook-dataset')\n",
        "\n",
        "EVAL_DATA_SOURCE = 'mjphayes/machine_learning_questions'\n",
        "EVAL_DATA_CACHE = os.path.join(PROJECT_ROOT, DATA_DIR, 'machine-learning-questions')\n",
        "\n",
        "GPT2_CHECKPOINT = 'distilgpt2'\n",
        "GPT2_CACHE_DIR = os.path.join(PROJECT_ROOT, MODELS_DIR, GPT2_CHECKPOINT)\n",
        "\n",
        "GPT2_FINETUNE_CHECKPOINT = 'mjphayes/distilgpt2-finetuned-textbook_dataset'\n",
        "GPT2_FINETUNE_CACHE_DIR = os.path.join(PROJECT_ROOT, MODELS_DIR, 'distilgpt2-finetuned-textbook_dataset')\n",
        "\n",
        "FALCON_CHECKPOINT = \"vilsonrodrigues/falcon-7b-instruct-sharded\"\n",
        "FALCON_CACHE_DIR = os.path.join(PROJECT_ROOT, MODELS_DIR, 'falcon-7b-instruct')\n",
        "\n",
        "FALCON_FINETUNE_CHECKPOINT = 'mjphayes/falcon-7b-instruct-textbook_dataset'\n",
        "FALCON_FINETUNE_CACHE_DIR = os.path.join(PROJECT_ROOT, MODELS_DIR, 'falcon-7b-instruct-textbook_dataset')\n",
        "\n",
        "if not os.path.exists(DATA_DIR):\n",
        "    os.makedirs(DATA_DIR)\n",
        "if not os.path.exists(MODELS_DIR):\n",
        "    os.makedirs(MODELS_DIR)\n",
        "if not os.path.exists(RESULTS_DIR):\n",
        "    os.makedirs(RESULTS_DIR)\n",
        "if not os.path.exists(PDF_DIR):\n",
        "    os.makedirs(PDF_DIR)\n",
        "if not os.path.exists(TEXT_DIR):\n",
        "    os.makedirs(TEXT_DIR)"
      ]
    },
    {
      "cell_type": "code",
      "execution_count": null,
      "metadata": {
        "id": "_7qyQfCpxOZI"
      },
      "outputs": [],
      "source": [
        "# HF_TOKEN = os.environ.get('HF_TOKEN')"
      ]
    },
    {
      "cell_type": "markdown",
      "metadata": {
        "id": "hcIFI-vpxOZI"
      },
      "source": [
        "## Generating the two custom domain specific datasets"
      ]
    },
    {
      "cell_type": "code",
      "execution_count": null,
      "metadata": {
        "id": "aqzrBmcJxOZI"
      },
      "outputs": [],
      "source": [
        "!wget https://everythingcomputerscience.com/books/Machine%20Learning%20for%20Humans.pdf -P $PDF_DIR\n",
        "!wget https://mml-book.github.io/book/mml-book.pdf -P $PDF_DIR\n",
        "!wget https://github.com/abhishekkrthakur/approachingalmost/raw/master/AAAMLP.pdf -P $PDF_DIR\n",
        "!wget https://people.smp.uq.edu.au/DirkKroese/DSML/DSML.pdf -P $PDF_DIR\n",
        "!wget https://raw.githubusercontent.com/janishar/mit-deep-learning-book-pdf/master/complete-book-pdf/deeplearningbook.pdf -P $PDF_DIR"
      ]
    },
    {
      "cell_type": "markdown",
      "metadata": {
        "id": "bijCFb9QxOZJ"
      },
      "source": [
        "### Extracting raw text from the textbooks"
      ]
    },
    {
      "cell_type": "code",
      "execution_count": null,
      "metadata": {
        "id": "1CHs76FNxOZJ"
      },
      "outputs": [],
      "source": [
        "def extract_pdf_text(filename):\n",
        "    file = open(filename, 'rb')\n",
        "    reader = PyPDF2.PdfReader(file)\n",
        "    text = ''\n",
        "    for page in range(len(reader.pages)):\n",
        "        page = reader.pages[page]\n",
        "        text += page.extract_text()\n",
        "    return text"
      ]
    },
    {
      "cell_type": "code",
      "execution_count": null,
      "metadata": {
        "id": "_IAc6GsOxOZJ"
      },
      "outputs": [],
      "source": [
        "def extract_pdf_text_from_dir(dir):\n",
        "    text = ''\n",
        "    for filename in glob.glob(os.path.join(PDF_DIR, '*.pdf')):\n",
        "        text += extract_pdf_text(filename) + '\\n\\n\\n\\n\\n'\n",
        "    return text"
      ]
    },
    {
      "cell_type": "code",
      "execution_count": null,
      "metadata": {
        "id": "BXB5_pn_xOZJ"
      },
      "outputs": [],
      "source": [
        "texts = extract_pdf_text_from_dir(PDF_DIR)\n",
        "file = open(os.path.join(TEXT_DIR, 'combined_textbooks.txt'), 'w')\n",
        "file.write(texts)"
      ]
    },
    {
      "cell_type": "markdown",
      "metadata": {
        "id": "rCLCi-aKxOZJ"
      },
      "source": [
        "### Creating the huggingface datasets datamodel from the raw text"
      ]
    },
    {
      "cell_type": "code",
      "execution_count": null,
      "metadata": {
        "id": "edD-83HaxOZJ"
      },
      "outputs": [],
      "source": [
        "dataset = load_dataset('text', data_files=os.path.join(TEXT_DIR, 'combined_textbooks.txt'))\n",
        "dataset"
      ]
    },
    {
      "cell_type": "code",
      "execution_count": null,
      "metadata": {
        "id": "KxnfJaK8xOZJ"
      },
      "outputs": [],
      "source": [
        "# dataset.push_to_hub(TRAIN_DATA_SOURCE, use_auth_token=HF_TOKEN)"
      ]
    },
    {
      "cell_type": "code",
      "execution_count": null,
      "metadata": {
        "id": "DYBgerbTxOZK"
      },
      "outputs": [],
      "source": [
        "path_to_texts = os.path.join(DATA_DIR, 'textbooks.txt')\n",
        "try:\n",
        "    text_books = open(path_to_texts, 'r', encofing=\"utf-8\").read()\n",
        "except:\n",
        "    !wget 'https://gist.githubusercontent.com/mitchelljphayes/82de40eb4ec9275c9b3403fa53665fde/raw/88b0d35d78b4b65d02384980b3e106f20767f7c6/textbooks.txt' -P $DATA_DIR\n",
        "    text_books = open(path_to_texts, 'r', encoding=\"utf-8\").read()"
      ]
    },
    {
      "cell_type": "markdown",
      "metadata": {
        "id": "Tp-aPUgZxOZK"
      },
      "source": [
        "## Creating the custom Question Answer dataset"
      ]
    },
    {
      "cell_type": "code",
      "execution_count": null,
      "metadata": {
        "id": "9aN1CoMCxOZK"
      },
      "outputs": [],
      "source": [
        "path_to_questions = os.path.join(DATA_DIR, 'machine-learning-questions.json')\n",
        "try:\n",
        "    questions = pd.read_json(path_to_questions)\n",
        "except:\n",
        "    !wget https://gist.githubusercontent.com/mitchelljphayes/7cb8fafc2959f2ef2d54020e70ff5283/raw/f93ca8dd70378fb434fa5acb3fc69e27ed54b05e/machine-learning-questions.json -P $DATA_DIR\n",
        "    questions = pd.read_json(path_to_questions)"
      ]
    },
    {
      "cell_type": "markdown",
      "metadata": {
        "id": "t-MY1RIdxOZK"
      },
      "source": [
        "## Evaluating sentence similarity evaluations using BertScore\n"
      ]
    },
    {
      "cell_type": "code",
      "execution_count": null,
      "metadata": {
        "id": "emtQhGBkxOZK"
      },
      "outputs": [],
      "source": [
        "scorer = BERTScorer(lang=\"en\")\n",
        "def evaluate_answers(dataset, generated_answers, scorer=scorer):\n",
        "    ideal = dataset['answer']\n",
        "    P, R, F1 = scorer.score(ideal, generated_answers)\n",
        "    df = pd.DataFrame({'question': dataset['question'], 'ideal': ideal, 'generated': generated_answers, 'P': P, 'R': R, 'F1': F1})\n",
        "    return df"
      ]
    },
    {
      "cell_type": "markdown",
      "metadata": {
        "id": "rlmE06JlxOZK"
      },
      "source": [
        "## Falcon 7 B"
      ]
    },
    {
      "cell_type": "markdown",
      "metadata": {
        "id": "Rlr0WnzkxOZK"
      },
      "source": [
        "### Initialising the baseline falcon-7b-instruct model"
      ]
    },
    {
      "cell_type": "code",
      "execution_count": null,
      "metadata": {
        "id": "d2m6ZaTGxOZK"
      },
      "outputs": [],
      "source": [
        "quantization_config = BitsAndBytesConfig(\n",
        "    load_in_4bit=True,\n",
        "    bnb_4bit_compute_dtype=torch.bfloat16,\n",
        "    bnb_4bit_quant_type=\"nf4\",\n",
        "    bnb_4bit_use_double_quant=True,\n",
        ")"
      ]
    },
    {
      "cell_type": "code",
      "execution_count": null,
      "metadata": {
        "id": "oJ_VcL2FxOZK"
      },
      "outputs": [],
      "source": [
        "falcon_4bit = AutoModelForCausalLM.from_pretrained(\n",
        "        FALCON_CHECKPOINT,\n",
        "        device_map='auto',\n",
        "        quantization_config=quantization_config,\n",
        "        cache_dir=FALCON_CACHE_DIR,\n",
        "        )\n",
        "falcon_tokenizer = AutoTokenizer.from_pretrained(FALCON_CHECKPOINT, cache_dir=FALCON_CACHE_DIR)"
      ]
    },
    {
      "cell_type": "code",
      "execution_count": null,
      "metadata": {
        "id": "-Rgd4CSdxOZK"
      },
      "outputs": [],
      "source": [
        "falcon_tokenizer.pad_token = falcon_tokenizer.eos_token"
      ]
    },
    {
      "cell_type": "code",
      "execution_count": null,
      "metadata": {
        "id": "GKnykot_xOZK"
      },
      "outputs": [],
      "source": [
        "def print_trainable_parameters(model):\n",
        "  \"\"\"\n",
        "  Prints the number of trainable parameters in the model.\n",
        "  \"\"\"\n",
        "  trainable_params = 0\n",
        "  all_param = 0\n",
        "  for _, param in model.named_parameters():\n",
        "    all_param += param.numel()\n",
        "    if param.requires_grad:\n",
        "      trainable_params += param.numel()\n",
        "  print(\n",
        "      f\"trainable params: {trainable_params} || all params: {all_param} || trainables%: {100 * trainable_params / all_param}\"\n",
        "  )"
      ]
    },
    {
      "cell_type": "code",
      "execution_count": null,
      "metadata": {
        "id": "tw3YLnE3xOZK"
      },
      "outputs": [],
      "source": [
        "falcon_4bit.gradient_checkpointing_enable()\n",
        "falcon_4bit = prepare_model_for_kbit_training(falcon_4bit)"
      ]
    },
    {
      "cell_type": "code",
      "execution_count": null,
      "metadata": {
        "id": "mCqc9LYkxOZL"
      },
      "outputs": [],
      "source": [
        "config = LoraConfig(\n",
        "    r=16,\n",
        "    lora_alpha=32,\n",
        "    target_modules=[\"query_key_value\"],\n",
        "    lora_dropout=0.05,\n",
        "    bias=\"none\",\n",
        "    task_type=\"CAUSAL_LM\"\n",
        ")\n",
        "\n",
        "falcon_4bit = get_peft_model(falcon_4bit, config)\n",
        "print_trainable_parameters(falcon_4bit)"
      ]
    },
    {
      "cell_type": "code",
      "execution_count": null,
      "metadata": {
        "id": "uSIaGCpJxOZL"
      },
      "outputs": [],
      "source": [
        "    generation_config = falcon_4bit.generation_config\n",
        "    generation_config.max_new_tokens = 312\n",
        "    generation_config.temperature = 0.7\n",
        "    generation_config.top_p = 0.7\n",
        "    generation_config.num_return_sequences = 1\n",
        "    generation_config.pad_token_id = falcon_tokenizer.eos_token_id\n",
        "    generation_config.eos_token_id = falcon_tokenizer.eos_token_id"
      ]
    },
    {
      "cell_type": "code",
      "execution_count": null,
      "metadata": {
        "id": "YQg3LrdaxOZL"
      },
      "outputs": [],
      "source": [
        "prompt = \"\"\"\n",
        "Question: What is machine learning?\n",
        "Answer:\n",
        "\"\"\".strip()\n",
        "%time\n",
        "encoding = falcon_tokenizer(prompt, return_tensors=\"pt\").to(device)\n",
        "with torch.no_grad():\n",
        "  outputs = falcon_4bit.generate(\n",
        "      input_ids = encoding.input_ids,\n",
        "      attention_mask = encoding.attention_mask,\n",
        "      generation_config = generation_config\n",
        "  )\n",
        "\n",
        "print(falcon_tokenizer.decode(outputs[0], skip_special_tokens=True))"
      ]
    },
    {
      "cell_type": "markdown",
      "metadata": {
        "id": "dQbhjJwNxOZL"
      },
      "source": [
        "## Evaluating the baseline falcon model"
      ]
    },
    {
      "cell_type": "code",
      "execution_count": null,
      "metadata": {
        "id": "SBLyu5PJxOZL"
      },
      "outputs": [],
      "source": [
        "def falcon_inference(question, model, tokenizer, device):\n",
        "    prompt = f\"\"\"\n",
        "    Question: {question}\n",
        "    Answer:\n",
        "    \"\"\".strip()\n",
        "    generation_config = model.generation_config\n",
        "    generation_config.max_new_tokens = 312\n",
        "    generation_config.temperature = 0.7\n",
        "    generation_config.top_p = 0.7\n",
        "    generation_config.num_return_sequences = 1\n",
        "    generation_config.pad_token_id = tokenizer.eos_token_id\n",
        "    generation_config.eos_token_id = tokenizer.eos_token_id\n",
        "\n",
        "    encoding = tokenizer(prompt, return_tensors=\"pt\").to(device)\n",
        "    with torch.inference_mode():\n",
        "      outputs = model.generate(\n",
        "          input_ids = encoding.input_ids,\n",
        "          attention_mask = encoding.attention_mask,\n",
        "          generation_config = generation_config\n",
        "      )\n",
        "    initial_answer = tokenizer.decode(outputs[0], skip_special_tokens=True)\n",
        "    answer = initial_answer.split('Answer:')[-1]\n",
        "    return answer.strip()"
      ]
    },
    {
      "cell_type": "code",
      "execution_count": null,
      "metadata": {
        "id": "rf-87BddxOZL"
      },
      "outputs": [],
      "source": [
        "def run_evaluation(evaluation_dataset, inference_function, model, tokenizer, device):\n",
        "    results = []\n",
        "    for i in tqdm(range(len(evaluation_dataset))):\n",
        "        question = evaluation_dataset[i]['question']\n",
        "        answer = inference_function(question, model, tokenizer, device)\n",
        "        results.append(answer)\n",
        "    return results"
      ]
    },
    {
      "cell_type": "code",
      "execution_count": null,
      "metadata": {
        "id": "wY-d0zdqxOZL"
      },
      "outputs": [],
      "source": [
        "eval_data = load_dataset(EVAL_DATA_SOURCE, cache_dir=EVAL_DATA_CACHE, split='train')"
      ]
    },
    {
      "cell_type": "code",
      "execution_count": null,
      "metadata": {
        "id": "j-GPqY3xxOZL"
      },
      "outputs": [],
      "source": [
        "answer = falcon_inference('What is machine learning?', falcon_4bit, falcon_tokenizer, device)\n",
        "answer"
      ]
    },
    {
      "cell_type": "code",
      "execution_count": null,
      "metadata": {
        "id": "QRHjvJYYxOZM"
      },
      "outputs": [],
      "source": [
        "falcon_answers = run_evaluation(eval_data, falcon_inference, falcon_4bit, falcon_tokenizer, device)"
      ]
    },
    {
      "cell_type": "code",
      "execution_count": null,
      "metadata": {
        "id": "bUDMYEsqxOZM"
      },
      "outputs": [],
      "source": [
        "falcon_results = evaluate_answers(eval_data, falcon_answers)\n",
        "falcon_results.to_csv(os.path.join(RESULTS_DIR, 'falcon_results.csv'))"
      ]
    },
    {
      "cell_type": "markdown",
      "metadata": {
        "id": "21EhjOy6xOZO"
      },
      "source": [
        "## Fine tuning falcon"
      ]
    },
    {
      "cell_type": "code",
      "execution_count": null,
      "metadata": {
        "id": "DhZMA7arxOZO"
      },
      "outputs": [],
      "source": [
        "textbook_dataset = load_dataset(TRAIN_DATA_SOURCE, cache_dir=TRAIN_DATA_CACHE)"
      ]
    },
    {
      "cell_type": "code",
      "execution_count": null,
      "metadata": {
        "id": "nKGLtHKjxOZO"
      },
      "outputs": [],
      "source": [
        "def tokenize_for_falcon(examples):\n",
        "    return falcon_tokenizer(examples[\"text\"])"
      ]
    },
    {
      "cell_type": "code",
      "execution_count": null,
      "metadata": {
        "id": "_KCp50TaxOZO"
      },
      "outputs": [],
      "source": [
        "tokenized_text = textbook_dataset.map(tokenize_for_falcon, batched=True, num_proc=4, remove_columns=[\"text\"])"
      ]
    },
    {
      "cell_type": "code",
      "execution_count": null,
      "metadata": {
        "id": "1bSftJq5xOZO"
      },
      "outputs": [],
      "source": [
        "split_data = tokenized_text['train'].train_test_split(test_size=0.05)"
      ]
    },
    {
      "cell_type": "code",
      "execution_count": null,
      "metadata": {
        "id": "anA8F2WrxOZO"
      },
      "outputs": [],
      "source": [
        "block_size = falcon_tokenizer.model_max_length\n",
        "# block_size = 128\n",
        "block_size"
      ]
    },
    {
      "cell_type": "code",
      "execution_count": null,
      "metadata": {
        "id": "bhuky2kjxOZP"
      },
      "outputs": [],
      "source": [
        "def group_inputs(examples):\n",
        "    concatenated_examples = {k: sum(examples[k], []) for k in examples.keys()}\n",
        "    total_length = len(concatenated_examples[list(examples.keys())[0]])\n",
        "    total_length = (total_length // block_size) * block_size\n",
        "    result = {\n",
        "        k: [t[i : i + block_size] for i in range(0, total_length, block_size)]\n",
        "        for k, t in concatenated_examples.items()\n",
        "    }\n",
        "    result[\"labels\"] = result[\"input_ids\"].copy()\n",
        "    return result"
      ]
    },
    {
      "cell_type": "code",
      "execution_count": null,
      "metadata": {
        "id": "cajvcP5KxOZP"
      },
      "outputs": [],
      "source": [
        "grouped_data = split_data.map(\n",
        "    group_inputs,\n",
        "    batched=True,\n",
        "    batch_size=1000,\n",
        "    num_proc=4,\n",
        ")"
      ]
    },
    {
      "cell_type": "code",
      "execution_count": null,
      "metadata": {
        "id": "0rVySyRpxOZP"
      },
      "outputs": [],
      "source": [
        "grouped_data"
      ]
    },
    {
      "cell_type": "code",
      "execution_count": null,
      "metadata": {
        "id": "RW9vGeHHxOZP"
      },
      "outputs": [],
      "source": [
        "training_args = TrainingArguments(\n",
        "    per_device_train_batch_size=1,\n",
        "    gradient_accumulation_steps=4,\n",
        "    num_train_epochs=8,\n",
        "    evaluation_strategy=\"epoch\",\n",
        "    learning_rate=2e-4,\n",
        "    fp16=True,\n",
        "    save_total_limit=3,\n",
        "    logging_steps=1,\n",
        "    output_dir=\"experiments\",\n",
        "    optim=\"paged_adamw_8bit\",\n",
        "    lr_scheduler_type=\"cosine\",\n",
        "    warmup_ratio=0.05,\n",
        ")\n",
        "\n",
        "trainer = Trainer(\n",
        "    model=falcon_4bit,\n",
        "    train_dataset=grouped_data['train'],\n",
        "    eval_dataset=grouped_data['test'],\n",
        "    args=training_args,\n",
        "    data_collator=DataCollatorForLanguageModeling(falcon_tokenizer, mlm=False)\n",
        ")\n",
        "falcon_4bit.config.use_cache = False"
      ]
    },
    {
      "cell_type": "code",
      "execution_count": null,
      "metadata": {
        "id": "W_GiJGgmxOZP"
      },
      "outputs": [],
      "source": [
        "trainer.train()"
      ]
    },
    {
      "cell_type": "code",
      "execution_count": null,
      "metadata": {
        "id": "hd2ES9aOxOZP"
      },
      "outputs": [],
      "source": [
        "trainer.save_model(FALCON_FINETUNE_CHECKPOINT)"
      ]
    },
    {
      "cell_type": "code",
      "execution_count": null,
      "metadata": {
        "id": "qcTZ7JxBxOZP"
      },
      "outputs": [],
      "source": [
        "try:\n",
        "    falcon_finetune = falcon_4bit\n",
        "except:\n",
        "    falcon_finetune = AutoModelForCausalLM.from_pretrained(\n",
        "        FALCON_FINETUNE_CHECKPOINT,\n",
        "        quantization_config=quantization_config,\n",
        "        cache_dir=FALCON_FINETUNE_CACHE_DIR,\n",
        "        device_map='auto'\n",
        "        )"
      ]
    },
    {
      "cell_type": "code",
      "execution_count": null,
      "metadata": {
        "id": "163PLxXExOZP"
      },
      "outputs": [],
      "source": [
        "def generate_prompt(data_point):\n",
        "  return f\"\"\"\n",
        "Question: {data_point[\"question\"]}\n",
        "Answer: {data_point[\"answer\"]}\n",
        "\"\"\".strip()\n",
        "\n",
        "def generate_and_tokenize_prompt(data_point):\n",
        "  full_prompt = generate_prompt(data_point)\n",
        "  tokenized_full_prompt = falcon_tokenizer(full_prompt, padding=True, truncation=True)\n",
        "  return tokenized_full_prompt"
      ]
    },
    {
      "cell_type": "code",
      "execution_count": null,
      "metadata": {
        "id": "E5Vo_IwQxOZP"
      },
      "outputs": [],
      "source": [
        "alignment_data = load_dataset(EVAL_DATA_SOURCE, cache_dir=EVAL_DATA_CACHE, split='test')"
      ]
    },
    {
      "cell_type": "code",
      "execution_count": null,
      "metadata": {
        "id": "nXvoflfUxOZQ"
      },
      "outputs": [],
      "source": [
        "alignment_data = alignment_data.map(generate_and_tokenize_prompt).remove_columns(['question', 'answer']).train_test_split(test_size=0.05)"
      ]
    },
    {
      "cell_type": "code",
      "execution_count": null,
      "metadata": {
        "id": "OrnSft6hxOZQ"
      },
      "outputs": [],
      "source": [
        "alignment_data"
      ]
    },
    {
      "cell_type": "code",
      "execution_count": null,
      "metadata": {
        "id": "0jZ4sTLyxOZQ"
      },
      "outputs": [],
      "source": [
        "alignment_trainer = transformers.Trainer(\n",
        "    model=falcon_finetune,\n",
        "    train_dataset=alignment_data['train'],\n",
        "    eval_dataset=alignment_data['test'],\n",
        "    args=training_args,\n",
        "    data_collator=transformers.DataCollatorForLanguageModeling(falcon_tokenizer, mlm=False)\n",
        ")\n",
        "falcon_finetune.config.use_cache = False"
      ]
    },
    {
      "cell_type": "code",
      "execution_count": null,
      "metadata": {
        "id": "9Srxb6fPxOZQ"
      },
      "outputs": [],
      "source": [
        "alignment_trainer.train()"
      ]
    },
    {
      "cell_type": "code",
      "execution_count": null,
      "metadata": {
        "id": "UIfd4WkJxOZQ"
      },
      "outputs": [],
      "source": [
        "falcon_finetune.save_pretrained(FALCON_FINETUNE_CACHE_DIR)\n",
        "falcon_tokenizer.save_pretrained(FALCON_FINETUNE_CACHE_DIR)\n",
        "# falcon_finetune.push_to_hub(FALCON_FINETUNE_CHECKPOINT, token=HF_TOKEN)\n",
        "# falocn_tokenizer.push_to_hub(FALCON_FINETUNE_CHECKPOINT, token=HF_TOKEN)"
      ]
    },
    {
      "cell_type": "markdown",
      "metadata": {
        "id": "qwo7h17oxOZQ"
      },
      "source": [
        "We now reload the model into memory, so that it is configured for inference, and we have a point at which we can run the notebook, to skip the training step."
      ]
    },
    {
      "cell_type": "code",
      "execution_count": null,
      "metadata": {
        "id": "t98m_RoVxOZQ"
      },
      "outputs": [],
      "source": [
        "falcon_finetune = AutoModelForCausalLM.from_pretrained(FALCON_FINETUNE_CHECKPOINT, cache_dir=FALCON_FINETUNE_CACHE_DIR, device_map='auto', quantization_config=quantization_config)"
      ]
    },
    {
      "cell_type": "markdown",
      "metadata": {
        "id": "-5z5QBxexOZQ"
      },
      "source": [
        "### Evaluating the finetuned falcon model"
      ]
    },
    {
      "cell_type": "code",
      "execution_count": null,
      "metadata": {
        "id": "5fQ7MisjxOZQ"
      },
      "outputs": [],
      "source": [
        "prompt = \"\"\"\n",
        "Questin: What is an LSTM?\n",
        "Answer:\n",
        "\"\"\".strip()\n",
        "\n",
        "encoding = falcon_tokenizer(prompt, return_tensors=\"pt\").to(device)\n",
        "with torch.inference_mode():\n",
        "# with torch.no_grad():\n",
        "  outputs = falcon_finetune.generate(\n",
        "      input_ids = encoding.input_ids,\n",
        "      attention_mask = encoding.attention_mask,\n",
        "      generation_config = generation_config\n",
        "  )\n",
        "print(falcon_tokenizer.decode(outputs[0], skip_special_tokens=True))"
      ]
    },
    {
      "cell_type": "code",
      "execution_count": null,
      "metadata": {
        "id": "emxHxQ0KxOZQ"
      },
      "outputs": [],
      "source": [
        "answer = falcon_inference(\"What is an LSTM\", falcon_finetune, falcon_tokenizer, device)\n",
        "answer"
      ]
    },
    {
      "cell_type": "code",
      "execution_count": null,
      "metadata": {
        "id": "s4-JwqL1xOZR"
      },
      "outputs": [],
      "source": [
        "falcon_finetune_answers = run_evaluation(eval_data, falcon_inference, falcon_finetune, falcon_tokenizer, device)"
      ]
    },
    {
      "cell_type": "code",
      "execution_count": null,
      "metadata": {
        "id": "nRGd-wXixOZR"
      },
      "outputs": [],
      "source": [
        "falcon_finetune_results = evaluate_answers(eval_data, falcon_finetune_answers)\n",
        "falcon_finetune_results.to_csv(os.path.join(RESULTS_DIR, 'falcon_finetune_results.csv'))"
      ]
    },
    {
      "cell_type": "code",
      "execution_count": null,
      "metadata": {
        "id": "PKQFd4xxxOZR"
      },
      "outputs": [],
      "source": [
        "if torch.cuda.is_available():\n",
        "    torch.cuda.empty_cache()\n",
        "if torch.backends.mps.is_available():\n",
        "    torch.mps.empty_cache()"
      ]
    },
    {
      "cell_type": "markdown",
      "metadata": {
        "id": "cNTUNGIjxOZR"
      },
      "source": [
        "# Loading GPT2"
      ]
    },
    {
      "cell_type": "code",
      "execution_count": null,
      "metadata": {
        "id": "_iafBR2dxOZR"
      },
      "outputs": [],
      "source": [
        "gpt2 = AutoModelForCausalLM.from_pretrained(GPT2_CHECKPOINT, cache_dir=GPT2_CACHE_DIR)\n",
        "gpt2_tokenizer = AutoTokenizer.from_pretrained(GPT2_CHECKPOINT, cache_dir=GPT2_CACHE_DIR, use_fast=True)"
      ]
    },
    {
      "cell_type": "code",
      "execution_count": null,
      "metadata": {
        "id": "m1GPF0xXxOZR"
      },
      "outputs": [],
      "source": [
        "gpt2.to(device)"
      ]
    },
    {
      "cell_type": "code",
      "execution_count": null,
      "metadata": {
        "id": "LlqZPqxqxOZR"
      },
      "outputs": [],
      "source": [
        "special_tokens_dict = {'eos_token': '<|endoftext|>'}\n",
        "num_added_toks = gpt2_tokenizer.add_special_tokens(special_tokens_dict)\n",
        "gpt2_tokenizer.pad_token = gpt2_tokenizer.eos_token\n",
        "gpt2.resize_token_embeddings(len(gpt2_tokenizer))"
      ]
    },
    {
      "cell_type": "code",
      "execution_count": null,
      "metadata": {
        "id": "YRbIOzEnxOZR"
      },
      "outputs": [],
      "source": [
        "def gpt2_inference(question, model, tokenizer, device):\n",
        "    prompt = f\"\"\"\n",
        "    Question: {question} \\n\n",
        "    Answer:\n",
        "    \"\"\".strip()\n",
        "    model_inputs = tokenizer(prompt, return_tensors=\"pt\").to(device)\n",
        "    generated_tokens = model.generate(**model_inputs, max_length=512)\n",
        "    response = tokenizer.batch_decode(generated_tokens, skip_special_tokens=True)[0]\n",
        "    answer = response.split('Answer:')[-1]\n",
        "    return answer.strip()"
      ]
    },
    {
      "cell_type": "code",
      "execution_count": null,
      "metadata": {
        "id": "ZRwrDSn8xOZR"
      },
      "outputs": [],
      "source": [
        "answer = gpt2_inference(\"Explain how neural networks work\", gpt2, gpt2_tokenizer, device)\n",
        "answer"
      ]
    },
    {
      "cell_type": "code",
      "execution_count": null,
      "metadata": {
        "id": "XOuSKfjfxOZR"
      },
      "outputs": [],
      "source": [
        "gpt2_answers = run_evaluation(eval_data, gpt2_inference, gpt2, gpt2_tokenizer, device)"
      ]
    },
    {
      "cell_type": "code",
      "execution_count": null,
      "metadata": {
        "id": "8GkmpM7-xOZR"
      },
      "outputs": [],
      "source": [
        "gpt2_results = evaluate_answers(eval_data, gpt2_answers)\n",
        "gpt2_results.to_csv(os.path.join(RESULTS_DIR, 'gpt2_results.csv'))"
      ]
    },
    {
      "cell_type": "markdown",
      "metadata": {
        "id": "w7Gm4h1HxOZS"
      },
      "source": [
        "# Finetuning GPT2"
      ]
    },
    {
      "cell_type": "code",
      "execution_count": null,
      "metadata": {
        "id": "g4JrkZ5txOZS"
      },
      "outputs": [],
      "source": [
        "textbook_dataset = load_dataset(TRAIN_DATA_SOURCE, cache_dir=TRAIN_DATA_CACHE)\n",
        "textbook_dataset"
      ]
    },
    {
      "cell_type": "code",
      "execution_count": null,
      "metadata": {
        "id": "YkXqfr2wxOZS"
      },
      "outputs": [],
      "source": [
        "def tokenize_for_gpt2(examples):\n",
        "    return gpt2_tokenizer(examples[\"text\"])"
      ]
    },
    {
      "cell_type": "code",
      "execution_count": null,
      "metadata": {
        "id": "TREoZgeExOZS"
      },
      "outputs": [],
      "source": [
        "gpt2_tokenized_text = textbook_dataset.map(tokenize_for_gpt2, batched=True, num_proc=4, remove_columns=[\"text\"])"
      ]
    },
    {
      "cell_type": "code",
      "execution_count": null,
      "metadata": {
        "id": "ydfksu3PxOZS"
      },
      "outputs": [],
      "source": [
        "block_size = gpt2_tokenizer.model_max_length\n",
        "block_size"
      ]
    },
    {
      "cell_type": "code",
      "execution_count": null,
      "metadata": {
        "id": "FYytAz9DxOZS"
      },
      "outputs": [],
      "source": [
        "def group_inputs(examples):\n",
        "    concatenated_examples = {k: sum(examples[k], []) for k in examples.keys()}\n",
        "    total_length = len(concatenated_examples[list(examples.keys())[0]])\n",
        "    total_length = (total_length // block_size) * block_size\n",
        "    result = {\n",
        "        k: [t[i : i + block_size] for i in range(0, total_length, block_size)]\n",
        "        for k, t in concatenated_examples.items()\n",
        "    }\n",
        "    result[\"labels\"] = result[\"input_ids\"].copy()\n",
        "    return result"
      ]
    },
    {
      "cell_type": "code",
      "execution_count": null,
      "metadata": {
        "id": "svYphnwQxOZS"
      },
      "outputs": [],
      "source": [
        "grouped_text_data = gpt2_tokenized_text.map(\n",
        "    group_inputs,\n",
        "    batched=True,\n",
        "    batch_size=1000,\n",
        "    num_proc=4,\n",
        ")"
      ]
    },
    {
      "cell_type": "code",
      "execution_count": null,
      "metadata": {
        "id": "boq8aoLnxOZS"
      },
      "outputs": [],
      "source": [
        "grouped_text_data = grouped_text_data['train'].train_test_split(test_size=0.05, shuffle=True)"
      ]
    },
    {
      "cell_type": "code",
      "execution_count": null,
      "metadata": {
        "id": "geNCwhAXxOZS"
      },
      "outputs": [],
      "source": [
        "training_args = TrainingArguments(\n",
        "    GPT2_FINETUNE_CACHE_DIR,\n",
        "    evaluation_strategy=\"epoch\",\n",
        "    num_train_epochs=8,\n",
        "    learning_rate=2e-4,\n",
        "    weight_decay=0.01,\n",
        ")\n",
        "trainer = Trainer(\n",
        "    model=gpt2,\n",
        "    args=training_args,\n",
        "    train_dataset=grouped_text_data['train'],\n",
        "    eval_dataset=grouped_text_data['test'],\n",
        "    data_collator=DataCollatorForLanguageModeling(gpt2_tokenizer, mlm=False),\n",
        ")\n"
      ]
    },
    {
      "cell_type": "code",
      "execution_count": null,
      "metadata": {
        "id": "1GjCNIjrxOZS"
      },
      "outputs": [],
      "source": [
        "trainer.train()"
      ]
    },
    {
      "cell_type": "code",
      "execution_count": null,
      "metadata": {
        "id": "JIoWBC5wxOZT"
      },
      "outputs": [],
      "source": [
        "def transform_for_q_and_a(examples):\n",
        "    return {\"text\": f\"Question: {examples['question']} \\n Answer: {examples['answer']}\"}"
      ]
    },
    {
      "cell_type": "code",
      "execution_count": null,
      "metadata": {
        "id": "LJeBcnbqxOZT"
      },
      "outputs": [],
      "source": [
        "trainer.save_model(GPT2_FINETUNE_CACHE_DIR)\n",
        "gpt2_tokenizer.save_pretrained(GPT2_FINETUNE_CACHE_DIR)\n",
        "gpt2_finetune = AutoModelForCausalLM.from_pretrained(GPT2_FINETUNE_CHECKPOINT, cache_dir=GPT2_FINETUNE_CACHE_DIR)"
      ]
    },
    {
      "cell_type": "code",
      "execution_count": null,
      "metadata": {
        "id": "-IhFkJd0xOZT"
      },
      "outputs": [],
      "source": [
        "alignment_data = (load_dataset(EVAL_DATA_SOURCE, cache_dir=EVAL_DATA_CACHE, split='test')\n",
        "                    .train_test_split(test_size=0.1, shuffle=True)\n",
        "                    .map(transform_for_q_and_a, num_proc=4)\n",
        "                    .map(tokenize_for_gpt2, batched=True, num_proc=4, remove_columns=[\"text\"])\n",
        "                    )\n",
        "\n"
      ]
    },
    {
      "cell_type": "code",
      "execution_count": null,
      "metadata": {
        "id": "Hn9b11c4xOZT"
      },
      "outputs": [],
      "source": [
        "training_args = TrainingArguments(\n",
        "    GPT2_FINETUNE_CACHE_DIR,\n",
        "    evaluation_strategy=\"epoch\",\n",
        "    num_train_epochs=8,\n",
        "    learning_rate=2e-4,\n",
        "    weight_decay=0.01,\n",
        ")\n",
        "alignment_trainer = Trainer(\n",
        "    model=gpt2_finetune,\n",
        "    args=training_args,\n",
        "    train_dataset=alignment_data['train'],\n",
        "    eval_dataset=alignment_data['test'],\n",
        "    data_collator=DataCollatorForLanguageModeling(gpt2_tokenizer, mlm=False),\n",
        ")"
      ]
    },
    {
      "cell_type": "code",
      "execution_count": null,
      "metadata": {
        "id": "wlaFCDLRxOZT"
      },
      "outputs": [],
      "source": [
        "alignment_trainer.train()"
      ]
    },
    {
      "cell_type": "code",
      "execution_count": null,
      "metadata": {
        "id": "YB4Cj8aHxOZT"
      },
      "outputs": [],
      "source": [
        "alignment_trainer.save_model(GPT2_FINETUNE_CACHE_DIR)\n",
        "gpt2_tokenizer.save_pretrained(GPT2_FINETUNE_CACHE_DIR)"
      ]
    },
    {
      "cell_type": "code",
      "execution_count": null,
      "metadata": {
        "id": "9kZsoJ5WxOZT"
      },
      "outputs": [],
      "source": [
        "# gpt2.push_to_hub(GPT2_FINETUNE_CHECKPOINT, use_auth_token=HF_TOKEN)\n",
        "# gpt2_tokenizer.push_to_hub(GPT2_FINETUNE_CHECKPOINT, use_auth_token=HF_TOKEN)"
      ]
    },
    {
      "cell_type": "code",
      "execution_count": null,
      "metadata": {
        "id": "D8tJagddxOZT"
      },
      "outputs": [],
      "source": [
        "gpt2_finetune = AutoModelForCausalLM.from_pretrained(GPT2_FINETUNE_CHECKPOINT, cache_dir=GPT2_FINETUNE_CACHE_DIR).to(device)"
      ]
    },
    {
      "cell_type": "code",
      "execution_count": null,
      "metadata": {
        "id": "U7tVF59NxOZT"
      },
      "outputs": [],
      "source": [
        "gpt2_finetune_answers = run_evaluation(eval_data, gpt2_inference, gpt2_finetune, gpt2_tokenizer, device)"
      ]
    },
    {
      "cell_type": "code",
      "execution_count": null,
      "metadata": {
        "id": "xmsTM4Y9xOZT"
      },
      "outputs": [],
      "source": [
        "gpt2_finetune_results = evaluate_answers(eval_data, gpt2_finetune_answers)\n",
        "gpt2_finetune_results.to_csv(os.path.join(RESULTS_DIR, 'gpt2_finetune_results.csv'))"
      ]
    },
    {
      "cell_type": "code",
      "execution_count": null,
      "metadata": {
        "id": "2hIGBZsExOZT"
      },
      "outputs": [],
      "source": [
        "if torch.cuda.is_available():\n",
        "    torch.cuda.empty_cache()\n",
        "if torch.backends.mps.is_available():\n",
        "    torch.mps.empty_cache()"
      ]
    },
    {
      "cell_type": "markdown",
      "metadata": {
        "id": "PVIvlud1xOZU"
      },
      "source": [
        "# Loading falcon for RAG"
      ]
    },
    {
      "cell_type": "code",
      "execution_count": null,
      "metadata": {
        "id": "7YdcH6n4xOZU"
      },
      "outputs": [],
      "source": [
        "rag_quantization_config = BitsAndBytesConfig(\n",
        "    load_in_4bit=True,\n",
        "    bnb_4bit_compute_dtype=torch.float16,\n",
        "    bnb_4bit_quant_type=\"nf4\",\n",
        "    bnb_4bit_use_double_quant=True,\n",
        ")"
      ]
    },
    {
      "cell_type": "code",
      "execution_count": null,
      "metadata": {
        "id": "3u_ZKfYrxOZU"
      },
      "outputs": [],
      "source": [
        "falcon_4bit_rag = AutoModelForCausalLM.from_pretrained(\n",
        "        FALCON_CHECKPOINT,\n",
        "        device_map='auto',\n",
        "        quantization_config=rag_quantization_config,\n",
        "        cache_dir=FALCON_CACHE_DIR,\n",
        "        )\n",
        "falcon_tokenizer_rag = AutoTokenizer.from_pretrained(FALCON_CHECKPOINT, cache_dir=FALCON_CACHE_DIR)"
      ]
    },
    {
      "cell_type": "code",
      "execution_count": null,
      "metadata": {
        "id": "m5wUYU6AxOZU"
      },
      "outputs": [],
      "source": [
        "rag_pipeline = pipeline(\n",
        "        \"text-generation\",\n",
        "        model=falcon_4bit_rag,\n",
        "        tokenizer=falcon_tokenizer_rag,\n",
        "        use_cache=True,\n",
        "        device_map=\"auto\",\n",
        "        max_length=2048,\n",
        "        do_sample=True,\n",
        "        top_k=3,\n",
        "        num_return_sequences=1,\n",
        "        eos_token_id=falcon_tokenizer_rag.eos_token_id,\n",
        "        pad_token_id=falcon_tokenizer_rag.eos_token_id,\n",
        ")"
      ]
    },
    {
      "cell_type": "code",
      "execution_count": null,
      "metadata": {
        "id": "1eP9ee40xOZU"
      },
      "outputs": [],
      "source": [
        "text_books = open(path_to_texts, 'r', encoding=\"utf-8\").read()"
      ]
    },
    {
      "cell_type": "code",
      "execution_count": null,
      "metadata": {
        "id": "4cJNLFwsxOZU"
      },
      "outputs": [],
      "source": [
        "rag_falcon = HuggingFacePipeline(pipeline=rag_pipeline)\n",
        "rag_embeddings = HuggingFaceEmbeddings()"
      ]
    },
    {
      "cell_type": "code",
      "execution_count": null,
      "metadata": {
        "id": "u5X3JayQxOZU"
      },
      "outputs": [],
      "source": [
        "from langchain.text_splitter import RecursiveCharacterTextSplitter"
      ]
    },
    {
      "cell_type": "code",
      "execution_count": null,
      "metadata": {
        "id": "q2o4Px2KxOZU"
      },
      "outputs": [],
      "source": [
        "text_splitter = RecursiveCharacterTextSplitter(\n",
        "    chunk_size=512,\n",
        "    chunk_overlap=48,\n",
        "    length_function=len,\n",
        "    add_start_index=False,\n",
        ")"
      ]
    },
    {
      "cell_type": "code",
      "execution_count": null,
      "metadata": {
        "id": "xq0NQH94xOZV"
      },
      "outputs": [],
      "source": [
        "text_books = text_books.strip()\n",
        "text_books"
      ]
    },
    {
      "cell_type": "code",
      "execution_count": null,
      "metadata": {
        "id": "yR5dQw-0xOZV"
      },
      "outputs": [],
      "source": [
        "texts = text_splitter.create_documents([text_books])"
      ]
    },
    {
      "cell_type": "code",
      "execution_count": null,
      "metadata": {
        "id": "G1PklUOzxOZV"
      },
      "outputs": [],
      "source": [
        "embeddings = HuggingFaceEmbeddings()"
      ]
    },
    {
      "cell_type": "code",
      "execution_count": null,
      "metadata": {
        "id": "ZhfiGJN7xOZV"
      },
      "outputs": [],
      "source": [
        "vector_store = FAISS.from_documents(texts, embeddings)\n",
        "vector_store.save_local('./storage/vector_store')\n",
        "vector_store = FAISS.load_local('./storage/vector_store', embeddings)\n",
        "retriever = vector_store.as_retriever()"
      ]
    },
    {
      "cell_type": "code",
      "execution_count": null,
      "metadata": {
        "id": "5NXAmC3pxOZV"
      },
      "outputs": [],
      "source": [
        "search = vector_store.similarity_search(\"What is a neural network?\", k=3)\n",
        "source = search[0].page_content\n",
        "source"
      ]
    },
    {
      "cell_type": "code",
      "execution_count": null,
      "metadata": {
        "id": "AhC62tHSxOZV"
      },
      "outputs": [],
      "source": [
        "answer = retriever.get_relevant_documents(\"What is a neural network?\", k=1)"
      ]
    },
    {
      "cell_type": "code",
      "execution_count": null,
      "metadata": {
        "id": "RHyR0-VUxOZV"
      },
      "outputs": [],
      "source": [
        "answer"
      ]
    },
    {
      "cell_type": "code",
      "execution_count": null,
      "metadata": {
        "id": "Kk-E38ZoxOZV"
      },
      "outputs": [],
      "source": [
        "template = \"\"\"Answer the question based only on the context provided bellow:\n",
        "\n",
        "INSTRUCTIONS:\n",
        "Ensure that the answer is grammatically correct and relevant to the context.\n",
        "DO NOT include any HTML tags in your answer.\n",
        "DO NOT include any information that is not directly relevant to the question.\n",
        "Be succinct and to the point. Keep your answer to one or two sentences.\n",
        "\n",
        "Context: {context}\n",
        "\n",
        "\n",
        "Question: {question}\n",
        "\n",
        "\n",
        "Answer:\"\"\"\n",
        "\n",
        "prompt = ChatPromptTemplate.from_template(template)\n",
        "\n",
        "chain = (\n",
        "    {\n",
        "        \"context\": itemgetter(\"question\") | retriever,\n",
        "        \"question\": itemgetter(\"question\"),\n",
        "    }\n",
        "    | prompt\n",
        "    | rag_falcon\n",
        "    | StrOutputParser()\n",
        ")"
      ]
    },
    {
      "cell_type": "code",
      "execution_count": null,
      "metadata": {
        "id": "udGiPDHXxOZV"
      },
      "outputs": [],
      "source": [
        "eval_data = load_dataset(EVAL_DATA_SOURCE, cache_dir=EVAL_DATA_CACHE, split='train')"
      ]
    },
    {
      "cell_type": "code",
      "execution_count": null,
      "metadata": {
        "id": "IuII9uklxOZV"
      },
      "outputs": [],
      "source": [
        "eval_data"
      ]
    },
    {
      "cell_type": "code",
      "execution_count": null,
      "metadata": {
        "id": "JEcXd18hxOZV"
      },
      "outputs": [],
      "source": [
        "from random import randint\n",
        "rand = randint(0, len(eval_data))\n",
        "random_question = eval_data[rand]['question']\n",
        "ideal_answer = eval_data[rand]['answer']\n",
        "print(random_question)\n",
        "generated_answer = chain.invoke({\"question\": random_question})\n",
        "generated_answer = generated_answer.split('Answer: ')[-1].strip().split('\\n')[0]\n",
        "print(generated_answer)\n",
        "print(\"=\"*86)\n",
        "print(ideal_answer)"
      ]
    },
    {
      "cell_type": "code",
      "execution_count": null,
      "metadata": {
        "id": "YLyYmTSgxOZW"
      },
      "outputs": [],
      "source": [
        "def rag_inference(question, model, tokenizer, device):\n",
        "    chain = model\n",
        "    response = chain.invoke({\"question\": question})\n",
        "    answer = response.split('Answer: ')[-1].strip().split('\\n')[0]\n",
        "    return answer"
      ]
    },
    {
      "cell_type": "code",
      "execution_count": null,
      "metadata": {
        "id": "4G9V58w_xOZW"
      },
      "outputs": [],
      "source": [
        "rag_answers = run_evaluation(eval_data, rag_inference, chain, falcon_tokenizer_rag, device)"
      ]
    },
    {
      "cell_type": "code",
      "execution_count": null,
      "metadata": {
        "id": "tTiamYNLxOZW"
      },
      "outputs": [],
      "source": [
        "rag_results = evaluate_answers(eval_data, rag_answers)\n",
        "rag_results.to_csv(os.path.join(RESULTS_DIR, 'rag_results.csv'))"
      ]
    },
    {
      "cell_type": "markdown",
      "metadata": {
        "id": "Ne_BKGLBxOZW"
      },
      "source": [
        "# Results"
      ]
    },
    {
      "cell_type": "code",
      "execution_count": 13,
      "metadata": {
        "id": "oOLDSWgjxkrt"
      },
      "outputs": [],
      "source": [
        "import numpy as np"
      ]
    },
    {
      "cell_type": "code",
      "execution_count": 4,
      "metadata": {
        "id": "yNGHDNtrxOZW"
      },
      "outputs": [],
      "source": [
        "gpt2_results_df = pd.read_csv(os.path.join(RESULTS_DIR, 'gpt2_results.csv'))\n",
        "gpt2_finetune_results_df = pd.read_csv(os.path.join(RESULTS_DIR, 'gpt2_finetune_results.csv'))\n",
        "falcon_results_df = pd.read_csv(os.path.join(RESULTS_DIR, 'falcon_results.csv'))\n",
        "falcon_finetune_results_df = pd.read_csv(os.path.join(RESULTS_DIR, 'falcon_finetune_results.csv'))\n",
        "rag_results_df = pd.read_csv(os.path.join(RESULTS_DIR, 'rag_results.csv'))"
      ]
    },
    {
      "cell_type": "code",
      "execution_count": 5,
      "metadata": {
        "id": "KRsjaZURxOZW"
      },
      "outputs": [],
      "source": [
        "def print_summary(df, model_name):\n",
        "    print(f\"{model_name:20s} Mean Precision: {df['P'].mean()}\")\n",
        "    print(f\"{model_name:20s} Mean Recall:    {df['R'].mean()}\")\n",
        "    print(f\"{model_name:20s} Mean F1:        {df['F1'].mean()}\")"
      ]
    },
    {
      "cell_type": "code",
      "execution_count": 6,
      "metadata": {
        "id": "A17Gsr8DxOZW"
      },
      "outputs": [],
      "source": [
        "models_with_results = {\n",
        "    'GPT2': gpt2_results_df,\n",
        "    'GPT2 Finetuned': gpt2_finetune_results_df,\n",
        "    'FALCON': falcon_results_df,\n",
        "    'FALCON Finetuned': falcon_finetune_results_df,\n",
        "    'RAG': rag_results_df\n",
        "}"
      ]
    },
    {
      "cell_type": "code",
      "execution_count": 7,
      "metadata": {
        "colab": {
          "base_uri": "https://localhost:8080/"
        },
        "id": "0tkBgrlCxOZW",
        "outputId": "936dd265-9860-48fb-dd65-ef82a67b2b6b"
      },
      "outputs": [
        {
          "name": "stdout",
          "output_type": "stream",
          "text": [
            "=======================================================\n",
            "GPT2                 Mean Precision: 0.7444586824015748\n",
            "GPT2                 Mean Recall:    0.6856828544488188\n",
            "GPT2                 Mean F1:        0.7117185585826771\n",
            "\n",
            "=======================================================\n",
            "GPT2 Finetuned       Mean Precision: 0.48040724458661416\n",
            "GPT2 Finetuned       Mean Recall:    0.474265110511811\n",
            "GPT2 Finetuned       Mean F1:        0.4763223158464567\n",
            "\n",
            "=======================================================\n",
            "FALCON               Mean Precision: 0.8964403807874015\n",
            "FALCON               Mean Recall:    0.8840705547244094\n",
            "FALCON               Mean F1:        0.8898986018307087\n",
            "\n",
            "=======================================================\n",
            "FALCON Finetuned     Mean Precision: 0.8796251982283464\n",
            "FALCON Finetuned     Mean Recall:    0.8074321935433071\n",
            "FALCON Finetuned     Mean F1:        0.8404417248031497\n",
            "\n",
            "=======================================================\n",
            "RAG                  Mean Precision: 0.8948293111220472\n",
            "RAG                  Mean Recall:    0.8682503328346457\n",
            "RAG                  Mean F1:        0.8809914010629921\n",
            "\n"
          ]
        }
      ],
      "source": [
        "for model_name, results_df in models_with_results.items():\n",
        "    print(\"=\"*55)\n",
        "    print_summary(results_df, model_name)\n",
        "    print()"
      ]
    },
    {
      "cell_type": "code",
      "execution_count": 8,
      "metadata": {
        "id": "Nb4wCkWwxOZW"
      },
      "outputs": [],
      "source": [
        "def show_f1_scores(df, model_name):\n",
        "    plt.figure(figsize=(12, 8))\n",
        "    plt.hist(df['F1'], bins=100)\n",
        "    plt.title(f\"{model_name} F1 Scores\")\n",
        "    plt.style.use('ggplot')\n",
        "    plt.show()"
      ]
    },
    {
      "cell_type": "code",
      "execution_count": 9,
      "metadata": {
        "colab": {
          "base_uri": "https://localhost:8080/",
          "height": 1000
        },
        "id": "dvgGSKXmxOZW",
        "outputId": "63105db6-932e-4f1b-8d7d-129477784fac"
      },
      "outputs": [
        {
          "data": {
            "image/png": "[encoded data removed]",
            "text/plain": [
              "<Figure size 1200x800 with 1 Axes>"
            ]
          },
          "metadata": {},
          "output_type": "display_data"
        },
        {
          "data": {
            "image/png": "[encoded data removed]",
            "text/plain": [
              "<Figure size 1200x800 with 1 Axes>"
            ]
          },
          "metadata": {},
          "output_type": "display_data"
        },
        {
          "data": {
            "image/png": "[encoded data removed]",
            "text/plain": [
              "<Figure size 1200x800 with 1 Axes>"
            ]
          },
          "metadata": {},
          "output_type": "display_data"
        },
        {
          "data": {
            "image/png": "[encoded data removed]",
            "text/plain": [
              "<Figure size 1200x800 with 1 Axes>"
            ]
          },
          "metadata": {},
          "output_type": "display_data"
        },
        {
          "data": {
            "image/png": "[encoded data removed]",
            "text/plain": [
              "<Figure size 1200x800 with 1 Axes>"
            ]
          },
          "metadata": {},
          "output_type": "display_data"
        }
      ],
      "source": [
        "for model_name, results_df in models_with_results.items():\n",
        "    show_f1_scores(results_df, model_name)"
      ]
    },
    {
      "cell_type": "code",
      "execution_count": 10,
      "metadata": {
        "id": "VvfvhLSoxOZW"
      },
      "outputs": [],
      "source": [
        "def show_average_scores(df, model_name):\n",
        "    average_precision = df['P'].mean()\n",
        "    average_recall = df['R'].mean()\n",
        "    average_f1 = df['F1'].mean()\n",
        "\n",
        "    scores = [average_precision, average_recall, average_f1]\n",
        "    labels = ['Precision', 'Recall', 'F1 Score']\n",
        "    plt.figure(figsize=(8, 6))\n",
        "    barlist = plt.bar(labels, scores, color=['blue', 'green', 'red'])\n",
        "    for idx, bar in enumerate(barlist):\n",
        "        height = bar.get_height()\n",
        "        plt.text(bar.get_x() + bar.get_width()/2., height, f'{scores[idx]:.3f}', ha='center', va='bottom')\n",
        "    plt.xlabel('Metrics')\n",
        "    plt.ylabel('Scores')\n",
        "    plt.title(f'{model_name} Average Precision, Recall, and F1 Score')\n",
        "    plt.style.use('ggplot')\n",
        "    plt.show()"
      ]
    },
    {
      "cell_type": "code",
      "execution_count": 11,
      "metadata": {
        "colab": {
          "base_uri": "https://localhost:8080/",
          "height": 1000
        },
        "id": "q2XUNkifxOZX",
        "outputId": "5ea332ef-3e0f-4289-f51d-dd2d3424322f"
      },
      "outputs": [
        {
          "data": {
            "image/png": "[encoded data removed]",
            "text/plain": [
              "<Figure size 800x600 with 1 Axes>"
            ]
          },
          "metadata": {},
          "output_type": "display_data"
        },
        {
          "data": {
            "image/png": "[encoded data removed]",
            "text/plain": [
              "<Figure size 800x600 with 1 Axes>"
            ]
          },
          "metadata": {},
          "output_type": "display_data"
        },
        {
          "data": {
            "image/png": "[encoded data removed]",
            "text/plain": [
              "<Figure size 800x600 with 1 Axes>"
            ]
          },
          "metadata": {},
          "output_type": "display_data"
        },
        {
          "data": {
            "image/png": "[encoded data removed]",
            "text/plain": [
              "<Figure size 800x600 with 1 Axes>"
            ]
          },
          "metadata": {},
          "output_type": "display_data"
        },
        {
          "data": {
            "image/png": "[encoded data removed]",
            "text/plain": [
              "<Figure size 800x600 with 1 Axes>"
            ]
          },
          "metadata": {},
          "output_type": "display_data"
        }
      ],
      "source": [
        "for model_name, results_df in models_with_results.items():\n",
        "    show_average_scores(results_df, model_name)"
      ]
    },
    {
      "cell_type": "code",
      "execution_count": 18,
      "metadata": {
        "colab": {
          "base_uri": "https://localhost:8080/",
          "height": 606
        },
        "id": "aCdl7gzMxOZX",
        "outputId": "e1af21db-49e2-47ac-b97b-fab885bef616"
      },
      "outputs": [
        {
          "data": {
            "image/png": "[encoded data removed]",
            "text/plain": [
              "<Figure size 1200x600 with 1 Axes>"
            ]
          },
          "metadata": {},
          "output_type": "display_data"
        }
      ],
      "source": [
        "\n",
        "average_precision_gpt2 = gpt2_results_df['P'].mean()\n",
        "average_recall_gpt2 = gpt2_results_df['R'].mean()\n",
        "average_f1_gpt2 = gpt2_results_df['F1'].mean()\n",
        "\n",
        "average_precision_gpt2_finetune = gpt2_finetune_results_df['P'].mean()\n",
        "average_recall_gpt2_finetune = gpt2_finetune_results_df['R'].mean()\n",
        "average_f1_gpt2_finetune = gpt2_finetune_results_df['F1'].mean()\n",
        "\n",
        "average_precision_falcon = falcon_results_df['P'].mean()\n",
        "average_recall_falcon = falcon_results_df['R'].mean()\n",
        "average_f1_falcon = falcon_results_df['F1'].mean()\n",
        "\n",
        "average_precision_falcon_finetune = falcon_finetune_results_df['P'].mean()\n",
        "average_recall_falcon_finetune = falcon_finetune_results_df['R'].mean()\n",
        "average_f1_falcon_finetune = falcon_finetune_results_df['F1'].mean()\n",
        "\n",
        "average_precision_rag = rag_results_df['P'].mean()\n",
        "average_recall_rag = rag_results_df['R'].mean()\n",
        "average_f1_rag = rag_results_df['F1'].mean()\n",
        "\n",
        "\n",
        "precisions = [average_precision_gpt2, average_precision_gpt2_finetune, average_precision_falcon, average_precision_falcon_finetune, average_precision_rag]\n",
        "recalls = [average_recall_gpt2, average_recall_gpt2_finetune, average_recall_falcon, average_recall_falcon_finetune, average_recall_rag]\n",
        "f1_scores = [average_f1_gpt2, average_f1_gpt2_finetune, average_f1_falcon, average_f1_falcon_finetune, average_f1_rag]\n",
        "\n",
        "\n",
        "\n",
        "labels = ['GPT2', 'GPT2 Finetuned', 'Falcon 7B', 'Falcon 7B Finetuned', 'RAG']\n",
        "x = np.arange(len(labels))\n",
        "width = 0.2\n",
        "\n",
        "\n",
        "fig, ax = plt.subplots(figsize=(12, 6))\n",
        "\n",
        "\n",
        "rects1 = ax.bar(x - width, precisions, width, label='Precision', color='blue')\n",
        "rects2 = ax.bar(x, recalls, width, label='Recall', color='green')\n",
        "rects3 = ax.bar(x + width, f1_scores, width, label='F1', color='red')\n",
        "\n",
        "\n",
        "ax.set_ylabel('Scores')\n",
        "ax.set_title('Comparison of Precision, Recall, and F1 Across Different Models')\n",
        "ax.set_xticks(x)\n",
        "ax.set_xticklabels(labels)\n",
        "ax.legend()\n",
        "\n",
        "\n",
        "def add_labels(rects):\n",
        "    for rect in rects:\n",
        "        height = rect.get_height()\n",
        "        ax.annotate(f'{height:.3f}',\n",
        "                    xy=(rect.get_x() + rect.get_width() / 2, height),\n",
        "                    xytext=(0, 3),\n",
        "                    textcoords=\"offset points\",\n",
        "                    ha='center', va='bottom')\n",
        "\n",
        "add_labels(rects1)\n",
        "add_labels(rects2)\n",
        "add_labels(rects3)\n",
        "\n",
        "\n",
        "plt.tight_layout()\n",
        "plt.show()"
      ]
    },
    {
      "cell_type": "code",
      "execution_count": 19,
      "metadata": {
        "colab": {
          "base_uri": "https://localhost:8080/"
        },
        "id": "jKBxHdLUUqXT",
        "outputId": "7b01ed2e-7c5b-4014-b36d-6b05ebf6c772"
      },
      "outputs": [
        {
          "name": "stdout",
          "output_type": "stream",
          "text": [
            "Accuracy GPT2: 0.3090551181102362\n",
            "Accuracy Finetuned GPT2: 0.42913385826771655\n",
            "Accuracy Falcon: 0.9881889763779528\n",
            "Accuracy Finetuned Falcon: 0.7519685039370079\n",
            "Accuracy RAG: 0.9980314960629921\n"
          ]
        }
      ],
      "source": [
        "def calculate_accuracy(df):\n",
        "    above_threshold = df['F1'] > 0.8\n",
        "\n",
        "    accuracy_score = above_threshold.sum() / len(df)\n",
        "\n",
        "    return accuracy_score\n",
        "\n",
        "\n",
        "accuracy_gpt2 = calculate_accuracy(gpt2_results_df)\n",
        "accuracy_gpt2_finetune = calculate_accuracy(gpt2_finetune_results_df)\n",
        "accuracy_falcon = calculate_accuracy(falcon_results_df)\n",
        "accuracy_falcon_finetune = calculate_accuracy(falcon_finetune_results_df)\n",
        "accuracy_rag = calculate_accuracy(rag_results_df)\n",
        "\n",
        "\n",
        "print(\"Accuracy GPT2:\", accuracy_gpt2)\n",
        "print(\"Accuracy Finetuned GPT2:\", accuracy_gpt2_finetune)\n",
        "print(\"Accuracy Falcon:\", accuracy_falcon)\n",
        "print(\"Accuracy Finetuned Falcon:\", accuracy_falcon_finetune)\n",
        "print(\"Accuracy RAG:\", accuracy_rag)\n"
      ]
    },
    {
      "cell_type": "code",
      "execution_count": 20,
      "metadata": {
        "colab": {
          "base_uri": "https://localhost:8080/",
          "height": 606
        },
        "id": "OlPxQM0kUz_r",
        "outputId": "9d9ecebf-77a1-44e6-9f76-d65cfd7d7954"
      },
      "outputs": [
        {
          "data": {
            "image/png": "[encoded data removed]",
            "text/plain": [
              "<Figure size 1500x600 with 1 Axes>"
            ]
          },
          "metadata": {},
          "output_type": "display_data"
        }
      ],
      "source": [
        "\n",
        "\n",
        "precisions = [average_precision_gpt2, average_precision_gpt2_finetune, average_precision_falcon, average_precision_falcon_finetune, average_precision_rag]\n",
        "recalls = [average_recall_gpt2, average_recall_gpt2_finetune, average_recall_falcon, average_recall_falcon_finetune, average_recall_rag]\n",
        "f1_scores = [average_f1_gpt2, average_f1_gpt2_finetune, average_f1_falcon, average_f1_falcon_finetune, average_f1_rag]\n",
        "accuracies = [accuracy_gpt2, accuracy_gpt2_finetune, accuracy_falcon, accuracy_falcon_finetune, accuracy_rag]\n",
        "\n",
        "\n",
        "labels = ['GPT2', 'Finetuned GPT2', 'Falcon 7B', 'Finetuned Falcon 7B', 'RAG']\n",
        "\n",
        "x = np.arange(len(labels))\n",
        "width = 0.15\n",
        "\n",
        "\n",
        "fig, ax = plt.subplots(figsize=(15, 6))\n",
        "\n",
        "rects1 = ax.bar(x - 1.5*width, precisions, width, label='Precision', color='blue')\n",
        "rects2 = ax.bar(x - 0.5*width, recalls, width, label='Recall', color='green')\n",
        "rects3 = ax.bar(x + 0.5*width, f1_scores, width, label='F1', color='red')\n",
        "rects4 = ax.bar(x + 1.5*width, accuracies, width, label='Accuracy', color='purple')\n",
        "\n",
        "ax.set_ylabel('Scores')\n",
        "ax.set_title('Comparison of Precision, Recall, F1, and Accuracy Across Different Models')\n",
        "ax.set_xticks(x)\n",
        "ax.set_xticklabels(labels)\n",
        "ax.legend()\n",
        "\n",
        "\n",
        "def add_labels(rects):\n",
        "    for rect in rects:\n",
        "        height = rect.get_height()\n",
        "        ax.annotate(f'{height:.3f}',\n",
        "                    xy=(rect.get_x() + rect.get_width() / 2, height),\n",
        "                    xytext=(0, 3),\n",
        "                    textcoords=\"offset points\",\n",
        "                    ha='center', va='bottom')\n",
        "\n",
        "\n",
        "add_labels(rects1)\n",
        "add_labels(rects2)\n",
        "add_labels(rects3)\n",
        "add_labels(rects4)\n",
        "\n",
        "plt.tight_layout()\n",
        "plt.show()\n"
      ]
    }
  ],
  "metadata": {
    "colab": {
      "provenance": []
    },
    "kernelspec": {
      "display_name": "Python 3",
      "name": "python3"
    },
    "language_info": {
      "name": "python"
    }
  },
  "nbformat": 4,
  "nbformat_minor": 0
}
